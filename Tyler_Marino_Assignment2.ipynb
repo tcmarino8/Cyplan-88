{
  "nbformat": 4,
  "nbformat_minor": 0,
  "metadata": {
    "colab": {
      "provenance": [],
      "authorship_tag": "ABX9TyNrdI6L3c0HLCZqENflwUb/",
      "include_colab_link": true
    },
    "kernelspec": {
      "name": "python3",
      "display_name": "Python 3"
    },
    "language_info": {
      "name": "python"
    }
  },
  "cells": [
    {
      "cell_type": "markdown",
      "metadata": {
        "id": "view-in-github",
        "colab_type": "text"
      },
      "source": [
        "<a href=\"https://colab.research.google.com/github/tcmarino8/Cyplan-88/blob/ASSINGMENT_2/Tyler_Marino_Assignment2.ipynb\" target=\"_parent\"><img src=\"https://colab.research.google.com/assets/colab-badge.svg\" alt=\"Open In Colab\"/></a>"
      ]
    },
    {
      "cell_type": "code",
      "execution_count": 1,
      "metadata": {
        "id": "WuowsP2t-jsV"
      },
      "outputs": [],
      "source": [
        "import pandas as pd\n",
        "import networkx as nx\n",
        "import numpy as np\n",
        "import matplotlib.pyplot as plt\n"
      ]
    },
    {
      "cell_type": "code",
      "source": [
        "from google.colab import files\n",
        "\n",
        "accquaintances = files.upload()\n",
        "random = files.upload()"
      ],
      "metadata": {
        "colab": {
          "base_uri": "https://localhost:8080/",
          "height": 125
        },
        "id": "43ozrSS6-tSr",
        "outputId": "c9976892-5996-42e6-e895-c72bd427c653"
      },
      "execution_count": 2,
      "outputs": [
        {
          "output_type": "display_data",
          "data": {
            "text/plain": [
              "<IPython.core.display.HTML object>"
            ],
            "text/html": [
              "\n",
              "     <input type=\"file\" id=\"files-1b2c73a2-c1de-47a1-8c81-ee7b000e74a4\" name=\"files[]\" multiple disabled\n",
              "        style=\"border:none\" />\n",
              "     <output id=\"result-1b2c73a2-c1de-47a1-8c81-ee7b000e74a4\">\n",
              "      Upload widget is only available when the cell has been executed in the\n",
              "      current browser session. Please rerun this cell to enable.\n",
              "      </output>\n",
              "      <script>// Copyright 2017 Google LLC\n",
              "//\n",
              "// Licensed under the Apache License, Version 2.0 (the \"License\");\n",
              "// you may not use this file except in compliance with the License.\n",
              "// You may obtain a copy of the License at\n",
              "//\n",
              "//      http://www.apache.org/licenses/LICENSE-2.0\n",
              "//\n",
              "// Unless required by applicable law or agreed to in writing, software\n",
              "// distributed under the License is distributed on an \"AS IS\" BASIS,\n",
              "// WITHOUT WARRANTIES OR CONDITIONS OF ANY KIND, either express or implied.\n",
              "// See the License for the specific language governing permissions and\n",
              "// limitations under the License.\n",
              "\n",
              "/**\n",
              " * @fileoverview Helpers for google.colab Python module.\n",
              " */\n",
              "(function(scope) {\n",
              "function span(text, styleAttributes = {}) {\n",
              "  const element = document.createElement('span');\n",
              "  element.textContent = text;\n",
              "  for (const key of Object.keys(styleAttributes)) {\n",
              "    element.style[key] = styleAttributes[key];\n",
              "  }\n",
              "  return element;\n",
              "}\n",
              "\n",
              "// Max number of bytes which will be uploaded at a time.\n",
              "const MAX_PAYLOAD_SIZE = 100 * 1024;\n",
              "\n",
              "function _uploadFiles(inputId, outputId) {\n",
              "  const steps = uploadFilesStep(inputId, outputId);\n",
              "  const outputElement = document.getElementById(outputId);\n",
              "  // Cache steps on the outputElement to make it available for the next call\n",
              "  // to uploadFilesContinue from Python.\n",
              "  outputElement.steps = steps;\n",
              "\n",
              "  return _uploadFilesContinue(outputId);\n",
              "}\n",
              "\n",
              "// This is roughly an async generator (not supported in the browser yet),\n",
              "// where there are multiple asynchronous steps and the Python side is going\n",
              "// to poll for completion of each step.\n",
              "// This uses a Promise to block the python side on completion of each step,\n",
              "// then passes the result of the previous step as the input to the next step.\n",
              "function _uploadFilesContinue(outputId) {\n",
              "  const outputElement = document.getElementById(outputId);\n",
              "  const steps = outputElement.steps;\n",
              "\n",
              "  const next = steps.next(outputElement.lastPromiseValue);\n",
              "  return Promise.resolve(next.value.promise).then((value) => {\n",
              "    // Cache the last promise value to make it available to the next\n",
              "    // step of the generator.\n",
              "    outputElement.lastPromiseValue = value;\n",
              "    return next.value.response;\n",
              "  });\n",
              "}\n",
              "\n",
              "/**\n",
              " * Generator function which is called between each async step of the upload\n",
              " * process.\n",
              " * @param {string} inputId Element ID of the input file picker element.\n",
              " * @param {string} outputId Element ID of the output display.\n",
              " * @return {!Iterable<!Object>} Iterable of next steps.\n",
              " */\n",
              "function* uploadFilesStep(inputId, outputId) {\n",
              "  const inputElement = document.getElementById(inputId);\n",
              "  inputElement.disabled = false;\n",
              "\n",
              "  const outputElement = document.getElementById(outputId);\n",
              "  outputElement.innerHTML = '';\n",
              "\n",
              "  const pickedPromise = new Promise((resolve) => {\n",
              "    inputElement.addEventListener('change', (e) => {\n",
              "      resolve(e.target.files);\n",
              "    });\n",
              "  });\n",
              "\n",
              "  const cancel = document.createElement('button');\n",
              "  inputElement.parentElement.appendChild(cancel);\n",
              "  cancel.textContent = 'Cancel upload';\n",
              "  const cancelPromise = new Promise((resolve) => {\n",
              "    cancel.onclick = () => {\n",
              "      resolve(null);\n",
              "    };\n",
              "  });\n",
              "\n",
              "  // Wait for the user to pick the files.\n",
              "  const files = yield {\n",
              "    promise: Promise.race([pickedPromise, cancelPromise]),\n",
              "    response: {\n",
              "      action: 'starting',\n",
              "    }\n",
              "  };\n",
              "\n",
              "  cancel.remove();\n",
              "\n",
              "  // Disable the input element since further picks are not allowed.\n",
              "  inputElement.disabled = true;\n",
              "\n",
              "  if (!files) {\n",
              "    return {\n",
              "      response: {\n",
              "        action: 'complete',\n",
              "      }\n",
              "    };\n",
              "  }\n",
              "\n",
              "  for (const file of files) {\n",
              "    const li = document.createElement('li');\n",
              "    li.append(span(file.name, {fontWeight: 'bold'}));\n",
              "    li.append(span(\n",
              "        `(${file.type || 'n/a'}) - ${file.size} bytes, ` +\n",
              "        `last modified: ${\n",
              "            file.lastModifiedDate ? file.lastModifiedDate.toLocaleDateString() :\n",
              "                                    'n/a'} - `));\n",
              "    const percent = span('0% done');\n",
              "    li.appendChild(percent);\n",
              "\n",
              "    outputElement.appendChild(li);\n",
              "\n",
              "    const fileDataPromise = new Promise((resolve) => {\n",
              "      const reader = new FileReader();\n",
              "      reader.onload = (e) => {\n",
              "        resolve(e.target.result);\n",
              "      };\n",
              "      reader.readAsArrayBuffer(file);\n",
              "    });\n",
              "    // Wait for the data to be ready.\n",
              "    let fileData = yield {\n",
              "      promise: fileDataPromise,\n",
              "      response: {\n",
              "        action: 'continue',\n",
              "      }\n",
              "    };\n",
              "\n",
              "    // Use a chunked sending to avoid message size limits. See b/62115660.\n",
              "    let position = 0;\n",
              "    do {\n",
              "      const length = Math.min(fileData.byteLength - position, MAX_PAYLOAD_SIZE);\n",
              "      const chunk = new Uint8Array(fileData, position, length);\n",
              "      position += length;\n",
              "\n",
              "      const base64 = btoa(String.fromCharCode.apply(null, chunk));\n",
              "      yield {\n",
              "        response: {\n",
              "          action: 'append',\n",
              "          file: file.name,\n",
              "          data: base64,\n",
              "        },\n",
              "      };\n",
              "\n",
              "      let percentDone = fileData.byteLength === 0 ?\n",
              "          100 :\n",
              "          Math.round((position / fileData.byteLength) * 100);\n",
              "      percent.textContent = `${percentDone}% done`;\n",
              "\n",
              "    } while (position < fileData.byteLength);\n",
              "  }\n",
              "\n",
              "  // All done.\n",
              "  yield {\n",
              "    response: {\n",
              "      action: 'complete',\n",
              "    }\n",
              "  };\n",
              "}\n",
              "\n",
              "scope.google = scope.google || {};\n",
              "scope.google.colab = scope.google.colab || {};\n",
              "scope.google.colab._files = {\n",
              "  _uploadFiles,\n",
              "  _uploadFilesContinue,\n",
              "};\n",
              "})(self);\n",
              "</script> "
            ]
          },
          "metadata": {}
        },
        {
          "output_type": "stream",
          "name": "stdout",
          "text": [
            "Saving c88-2023_links_acquaintances - Sheet1.csv to c88-2023_links_acquaintances - Sheet1.csv\n"
          ]
        },
        {
          "output_type": "display_data",
          "data": {
            "text/plain": [
              "<IPython.core.display.HTML object>"
            ],
            "text/html": [
              "\n",
              "     <input type=\"file\" id=\"files-1f09d6fc-ea72-4b87-a0ab-04ab6f80a53d\" name=\"files[]\" multiple disabled\n",
              "        style=\"border:none\" />\n",
              "     <output id=\"result-1f09d6fc-ea72-4b87-a0ab-04ab6f80a53d\">\n",
              "      Upload widget is only available when the cell has been executed in the\n",
              "      current browser session. Please rerun this cell to enable.\n",
              "      </output>\n",
              "      <script>// Copyright 2017 Google LLC\n",
              "//\n",
              "// Licensed under the Apache License, Version 2.0 (the \"License\");\n",
              "// you may not use this file except in compliance with the License.\n",
              "// You may obtain a copy of the License at\n",
              "//\n",
              "//      http://www.apache.org/licenses/LICENSE-2.0\n",
              "//\n",
              "// Unless required by applicable law or agreed to in writing, software\n",
              "// distributed under the License is distributed on an \"AS IS\" BASIS,\n",
              "// WITHOUT WARRANTIES OR CONDITIONS OF ANY KIND, either express or implied.\n",
              "// See the License for the specific language governing permissions and\n",
              "// limitations under the License.\n",
              "\n",
              "/**\n",
              " * @fileoverview Helpers for google.colab Python module.\n",
              " */\n",
              "(function(scope) {\n",
              "function span(text, styleAttributes = {}) {\n",
              "  const element = document.createElement('span');\n",
              "  element.textContent = text;\n",
              "  for (const key of Object.keys(styleAttributes)) {\n",
              "    element.style[key] = styleAttributes[key];\n",
              "  }\n",
              "  return element;\n",
              "}\n",
              "\n",
              "// Max number of bytes which will be uploaded at a time.\n",
              "const MAX_PAYLOAD_SIZE = 100 * 1024;\n",
              "\n",
              "function _uploadFiles(inputId, outputId) {\n",
              "  const steps = uploadFilesStep(inputId, outputId);\n",
              "  const outputElement = document.getElementById(outputId);\n",
              "  // Cache steps on the outputElement to make it available for the next call\n",
              "  // to uploadFilesContinue from Python.\n",
              "  outputElement.steps = steps;\n",
              "\n",
              "  return _uploadFilesContinue(outputId);\n",
              "}\n",
              "\n",
              "// This is roughly an async generator (not supported in the browser yet),\n",
              "// where there are multiple asynchronous steps and the Python side is going\n",
              "// to poll for completion of each step.\n",
              "// This uses a Promise to block the python side on completion of each step,\n",
              "// then passes the result of the previous step as the input to the next step.\n",
              "function _uploadFilesContinue(outputId) {\n",
              "  const outputElement = document.getElementById(outputId);\n",
              "  const steps = outputElement.steps;\n",
              "\n",
              "  const next = steps.next(outputElement.lastPromiseValue);\n",
              "  return Promise.resolve(next.value.promise).then((value) => {\n",
              "    // Cache the last promise value to make it available to the next\n",
              "    // step of the generator.\n",
              "    outputElement.lastPromiseValue = value;\n",
              "    return next.value.response;\n",
              "  });\n",
              "}\n",
              "\n",
              "/**\n",
              " * Generator function which is called between each async step of the upload\n",
              " * process.\n",
              " * @param {string} inputId Element ID of the input file picker element.\n",
              " * @param {string} outputId Element ID of the output display.\n",
              " * @return {!Iterable<!Object>} Iterable of next steps.\n",
              " */\n",
              "function* uploadFilesStep(inputId, outputId) {\n",
              "  const inputElement = document.getElementById(inputId);\n",
              "  inputElement.disabled = false;\n",
              "\n",
              "  const outputElement = document.getElementById(outputId);\n",
              "  outputElement.innerHTML = '';\n",
              "\n",
              "  const pickedPromise = new Promise((resolve) => {\n",
              "    inputElement.addEventListener('change', (e) => {\n",
              "      resolve(e.target.files);\n",
              "    });\n",
              "  });\n",
              "\n",
              "  const cancel = document.createElement('button');\n",
              "  inputElement.parentElement.appendChild(cancel);\n",
              "  cancel.textContent = 'Cancel upload';\n",
              "  const cancelPromise = new Promise((resolve) => {\n",
              "    cancel.onclick = () => {\n",
              "      resolve(null);\n",
              "    };\n",
              "  });\n",
              "\n",
              "  // Wait for the user to pick the files.\n",
              "  const files = yield {\n",
              "    promise: Promise.race([pickedPromise, cancelPromise]),\n",
              "    response: {\n",
              "      action: 'starting',\n",
              "    }\n",
              "  };\n",
              "\n",
              "  cancel.remove();\n",
              "\n",
              "  // Disable the input element since further picks are not allowed.\n",
              "  inputElement.disabled = true;\n",
              "\n",
              "  if (!files) {\n",
              "    return {\n",
              "      response: {\n",
              "        action: 'complete',\n",
              "      }\n",
              "    };\n",
              "  }\n",
              "\n",
              "  for (const file of files) {\n",
              "    const li = document.createElement('li');\n",
              "    li.append(span(file.name, {fontWeight: 'bold'}));\n",
              "    li.append(span(\n",
              "        `(${file.type || 'n/a'}) - ${file.size} bytes, ` +\n",
              "        `last modified: ${\n",
              "            file.lastModifiedDate ? file.lastModifiedDate.toLocaleDateString() :\n",
              "                                    'n/a'} - `));\n",
              "    const percent = span('0% done');\n",
              "    li.appendChild(percent);\n",
              "\n",
              "    outputElement.appendChild(li);\n",
              "\n",
              "    const fileDataPromise = new Promise((resolve) => {\n",
              "      const reader = new FileReader();\n",
              "      reader.onload = (e) => {\n",
              "        resolve(e.target.result);\n",
              "      };\n",
              "      reader.readAsArrayBuffer(file);\n",
              "    });\n",
              "    // Wait for the data to be ready.\n",
              "    let fileData = yield {\n",
              "      promise: fileDataPromise,\n",
              "      response: {\n",
              "        action: 'continue',\n",
              "      }\n",
              "    };\n",
              "\n",
              "    // Use a chunked sending to avoid message size limits. See b/62115660.\n",
              "    let position = 0;\n",
              "    do {\n",
              "      const length = Math.min(fileData.byteLength - position, MAX_PAYLOAD_SIZE);\n",
              "      const chunk = new Uint8Array(fileData, position, length);\n",
              "      position += length;\n",
              "\n",
              "      const base64 = btoa(String.fromCharCode.apply(null, chunk));\n",
              "      yield {\n",
              "        response: {\n",
              "          action: 'append',\n",
              "          file: file.name,\n",
              "          data: base64,\n",
              "        },\n",
              "      };\n",
              "\n",
              "      let percentDone = fileData.byteLength === 0 ?\n",
              "          100 :\n",
              "          Math.round((position / fileData.byteLength) * 100);\n",
              "      percent.textContent = `${percentDone}% done`;\n",
              "\n",
              "    } while (position < fileData.byteLength);\n",
              "  }\n",
              "\n",
              "  // All done.\n",
              "  yield {\n",
              "    response: {\n",
              "      action: 'complete',\n",
              "    }\n",
              "  };\n",
              "}\n",
              "\n",
              "scope.google = scope.google || {};\n",
              "scope.google.colab = scope.google.colab || {};\n",
              "scope.google.colab._files = {\n",
              "  _uploadFiles,\n",
              "  _uploadFilesContinue,\n",
              "};\n",
              "})(self);\n",
              "</script> "
            ]
          },
          "metadata": {}
        },
        {
          "output_type": "stream",
          "name": "stdout",
          "text": [
            "Saving c88-2023_links_random - Sheet1.csv to c88-2023_links_random - Sheet1.csv\n"
          ]
        }
      ]
    },
    {
      "cell_type": "code",
      "source": [
        "acquaintances_table = pd.read_csv('c88-2023_links_acquaintances - Sheet1.csv')\n",
        "random_table = pd.read_csv('c88-2023_links_random - Sheet1.csv')"
      ],
      "metadata": {
        "id": "u8anSZv0_AQt"
      },
      "execution_count": 3,
      "outputs": []
    },
    {
      "cell_type": "code",
      "source": [
        "acquaintances_table.head(5)"
      ],
      "metadata": {
        "colab": {
          "base_uri": "https://localhost:8080/",
          "height": 206
        },
        "id": "N8cadnzE_U5b",
        "outputId": "8bebeda1-a473-4d70-a686-14f20739ee1a"
      },
      "execution_count": 4,
      "outputs": [
        {
          "output_type": "execute_result",
          "data": {
            "text/plain": [
              "   source  target\n",
              "0      48      14\n",
              "1      48      49\n",
              "2       2      32\n",
              "3      28      27\n",
              "4      10      46"
            ],
            "text/html": [
              "\n",
              "  <div id=\"df-7b03e109-2e8e-4280-b319-03a4581b8c15\">\n",
              "    <div class=\"colab-df-container\">\n",
              "      <div>\n",
              "<style scoped>\n",
              "    .dataframe tbody tr th:only-of-type {\n",
              "        vertical-align: middle;\n",
              "    }\n",
              "\n",
              "    .dataframe tbody tr th {\n",
              "        vertical-align: top;\n",
              "    }\n",
              "\n",
              "    .dataframe thead th {\n",
              "        text-align: right;\n",
              "    }\n",
              "</style>\n",
              "<table border=\"1\" class=\"dataframe\">\n",
              "  <thead>\n",
              "    <tr style=\"text-align: right;\">\n",
              "      <th></th>\n",
              "      <th>source</th>\n",
              "      <th>target</th>\n",
              "    </tr>\n",
              "  </thead>\n",
              "  <tbody>\n",
              "    <tr>\n",
              "      <th>0</th>\n",
              "      <td>48</td>\n",
              "      <td>14</td>\n",
              "    </tr>\n",
              "    <tr>\n",
              "      <th>1</th>\n",
              "      <td>48</td>\n",
              "      <td>49</td>\n",
              "    </tr>\n",
              "    <tr>\n",
              "      <th>2</th>\n",
              "      <td>2</td>\n",
              "      <td>32</td>\n",
              "    </tr>\n",
              "    <tr>\n",
              "      <th>3</th>\n",
              "      <td>28</td>\n",
              "      <td>27</td>\n",
              "    </tr>\n",
              "    <tr>\n",
              "      <th>4</th>\n",
              "      <td>10</td>\n",
              "      <td>46</td>\n",
              "    </tr>\n",
              "  </tbody>\n",
              "</table>\n",
              "</div>\n",
              "      <button class=\"colab-df-convert\" onclick=\"convertToInteractive('df-7b03e109-2e8e-4280-b319-03a4581b8c15')\"\n",
              "              title=\"Convert this dataframe to an interactive table.\"\n",
              "              style=\"display:none;\">\n",
              "        \n",
              "  <svg xmlns=\"http://www.w3.org/2000/svg\" height=\"24px\"viewBox=\"0 0 24 24\"\n",
              "       width=\"24px\">\n",
              "    <path d=\"M0 0h24v24H0V0z\" fill=\"none\"/>\n",
              "    <path d=\"M18.56 5.44l.94 2.06.94-2.06 2.06-.94-2.06-.94-.94-2.06-.94 2.06-2.06.94zm-11 1L8.5 8.5l.94-2.06 2.06-.94-2.06-.94L8.5 2.5l-.94 2.06-2.06.94zm10 10l.94 2.06.94-2.06 2.06-.94-2.06-.94-.94-2.06-.94 2.06-2.06.94z\"/><path d=\"M17.41 7.96l-1.37-1.37c-.4-.4-.92-.59-1.43-.59-.52 0-1.04.2-1.43.59L10.3 9.45l-7.72 7.72c-.78.78-.78 2.05 0 2.83L4 21.41c.39.39.9.59 1.41.59.51 0 1.02-.2 1.41-.59l7.78-7.78 2.81-2.81c.8-.78.8-2.07 0-2.86zM5.41 20L4 18.59l7.72-7.72 1.47 1.35L5.41 20z\"/>\n",
              "  </svg>\n",
              "      </button>\n",
              "      \n",
              "  <style>\n",
              "    .colab-df-container {\n",
              "      display:flex;\n",
              "      flex-wrap:wrap;\n",
              "      gap: 12px;\n",
              "    }\n",
              "\n",
              "    .colab-df-convert {\n",
              "      background-color: #E8F0FE;\n",
              "      border: none;\n",
              "      border-radius: 50%;\n",
              "      cursor: pointer;\n",
              "      display: none;\n",
              "      fill: #1967D2;\n",
              "      height: 32px;\n",
              "      padding: 0 0 0 0;\n",
              "      width: 32px;\n",
              "    }\n",
              "\n",
              "    .colab-df-convert:hover {\n",
              "      background-color: #E2EBFA;\n",
              "      box-shadow: 0px 1px 2px rgba(60, 64, 67, 0.3), 0px 1px 3px 1px rgba(60, 64, 67, 0.15);\n",
              "      fill: #174EA6;\n",
              "    }\n",
              "\n",
              "    [theme=dark] .colab-df-convert {\n",
              "      background-color: #3B4455;\n",
              "      fill: #D2E3FC;\n",
              "    }\n",
              "\n",
              "    [theme=dark] .colab-df-convert:hover {\n",
              "      background-color: #434B5C;\n",
              "      box-shadow: 0px 1px 3px 1px rgba(0, 0, 0, 0.15);\n",
              "      filter: drop-shadow(0px 1px 2px rgba(0, 0, 0, 0.3));\n",
              "      fill: #FFFFFF;\n",
              "    }\n",
              "  </style>\n",
              "\n",
              "      <script>\n",
              "        const buttonEl =\n",
              "          document.querySelector('#df-7b03e109-2e8e-4280-b319-03a4581b8c15 button.colab-df-convert');\n",
              "        buttonEl.style.display =\n",
              "          google.colab.kernel.accessAllowed ? 'block' : 'none';\n",
              "\n",
              "        async function convertToInteractive(key) {\n",
              "          const element = document.querySelector('#df-7b03e109-2e8e-4280-b319-03a4581b8c15');\n",
              "          const dataTable =\n",
              "            await google.colab.kernel.invokeFunction('convertToInteractive',\n",
              "                                                     [key], {});\n",
              "          if (!dataTable) return;\n",
              "\n",
              "          const docLinkHtml = 'Like what you see? Visit the ' +\n",
              "            '<a target=\"_blank\" href=https://colab.research.google.com/notebooks/data_table.ipynb>data table notebook</a>'\n",
              "            + ' to learn more about interactive tables.';\n",
              "          element.innerHTML = '';\n",
              "          dataTable['output_type'] = 'display_data';\n",
              "          await google.colab.output.renderOutput(dataTable, element);\n",
              "          const docLink = document.createElement('div');\n",
              "          docLink.innerHTML = docLinkHtml;\n",
              "          element.appendChild(docLink);\n",
              "        }\n",
              "      </script>\n",
              "    </div>\n",
              "  </div>\n",
              "  "
            ]
          },
          "metadata": {},
          "execution_count": 4
        }
      ]
    },
    {
      "cell_type": "code",
      "source": [
        "random_table.head(5)"
      ],
      "metadata": {
        "colab": {
          "base_uri": "https://localhost:8080/",
          "height": 206
        },
        "id": "W_n3IRHv_p_d",
        "outputId": "50d14f77-5179-45fa-bef3-6892090ef493"
      },
      "execution_count": 5,
      "outputs": [
        {
          "output_type": "execute_result",
          "data": {
            "text/plain": [
              "   source  target\n",
              "0      19      23\n",
              "1      19      44\n",
              "2      19      34\n",
              "3      19      12\n",
              "4      13      27"
            ],
            "text/html": [
              "\n",
              "  <div id=\"df-873cb288-d43f-4696-af30-9879bfd7d5d3\">\n",
              "    <div class=\"colab-df-container\">\n",
              "      <div>\n",
              "<style scoped>\n",
              "    .dataframe tbody tr th:only-of-type {\n",
              "        vertical-align: middle;\n",
              "    }\n",
              "\n",
              "    .dataframe tbody tr th {\n",
              "        vertical-align: top;\n",
              "    }\n",
              "\n",
              "    .dataframe thead th {\n",
              "        text-align: right;\n",
              "    }\n",
              "</style>\n",
              "<table border=\"1\" class=\"dataframe\">\n",
              "  <thead>\n",
              "    <tr style=\"text-align: right;\">\n",
              "      <th></th>\n",
              "      <th>source</th>\n",
              "      <th>target</th>\n",
              "    </tr>\n",
              "  </thead>\n",
              "  <tbody>\n",
              "    <tr>\n",
              "      <th>0</th>\n",
              "      <td>19</td>\n",
              "      <td>23</td>\n",
              "    </tr>\n",
              "    <tr>\n",
              "      <th>1</th>\n",
              "      <td>19</td>\n",
              "      <td>44</td>\n",
              "    </tr>\n",
              "    <tr>\n",
              "      <th>2</th>\n",
              "      <td>19</td>\n",
              "      <td>34</td>\n",
              "    </tr>\n",
              "    <tr>\n",
              "      <th>3</th>\n",
              "      <td>19</td>\n",
              "      <td>12</td>\n",
              "    </tr>\n",
              "    <tr>\n",
              "      <th>4</th>\n",
              "      <td>13</td>\n",
              "      <td>27</td>\n",
              "    </tr>\n",
              "  </tbody>\n",
              "</table>\n",
              "</div>\n",
              "      <button class=\"colab-df-convert\" onclick=\"convertToInteractive('df-873cb288-d43f-4696-af30-9879bfd7d5d3')\"\n",
              "              title=\"Convert this dataframe to an interactive table.\"\n",
              "              style=\"display:none;\">\n",
              "        \n",
              "  <svg xmlns=\"http://www.w3.org/2000/svg\" height=\"24px\"viewBox=\"0 0 24 24\"\n",
              "       width=\"24px\">\n",
              "    <path d=\"M0 0h24v24H0V0z\" fill=\"none\"/>\n",
              "    <path d=\"M18.56 5.44l.94 2.06.94-2.06 2.06-.94-2.06-.94-.94-2.06-.94 2.06-2.06.94zm-11 1L8.5 8.5l.94-2.06 2.06-.94-2.06-.94L8.5 2.5l-.94 2.06-2.06.94zm10 10l.94 2.06.94-2.06 2.06-.94-2.06-.94-.94-2.06-.94 2.06-2.06.94z\"/><path d=\"M17.41 7.96l-1.37-1.37c-.4-.4-.92-.59-1.43-.59-.52 0-1.04.2-1.43.59L10.3 9.45l-7.72 7.72c-.78.78-.78 2.05 0 2.83L4 21.41c.39.39.9.59 1.41.59.51 0 1.02-.2 1.41-.59l7.78-7.78 2.81-2.81c.8-.78.8-2.07 0-2.86zM5.41 20L4 18.59l7.72-7.72 1.47 1.35L5.41 20z\"/>\n",
              "  </svg>\n",
              "      </button>\n",
              "      \n",
              "  <style>\n",
              "    .colab-df-container {\n",
              "      display:flex;\n",
              "      flex-wrap:wrap;\n",
              "      gap: 12px;\n",
              "    }\n",
              "\n",
              "    .colab-df-convert {\n",
              "      background-color: #E8F0FE;\n",
              "      border: none;\n",
              "      border-radius: 50%;\n",
              "      cursor: pointer;\n",
              "      display: none;\n",
              "      fill: #1967D2;\n",
              "      height: 32px;\n",
              "      padding: 0 0 0 0;\n",
              "      width: 32px;\n",
              "    }\n",
              "\n",
              "    .colab-df-convert:hover {\n",
              "      background-color: #E2EBFA;\n",
              "      box-shadow: 0px 1px 2px rgba(60, 64, 67, 0.3), 0px 1px 3px 1px rgba(60, 64, 67, 0.15);\n",
              "      fill: #174EA6;\n",
              "    }\n",
              "\n",
              "    [theme=dark] .colab-df-convert {\n",
              "      background-color: #3B4455;\n",
              "      fill: #D2E3FC;\n",
              "    }\n",
              "\n",
              "    [theme=dark] .colab-df-convert:hover {\n",
              "      background-color: #434B5C;\n",
              "      box-shadow: 0px 1px 3px 1px rgba(0, 0, 0, 0.15);\n",
              "      filter: drop-shadow(0px 1px 2px rgba(0, 0, 0, 0.3));\n",
              "      fill: #FFFFFF;\n",
              "    }\n",
              "  </style>\n",
              "\n",
              "      <script>\n",
              "        const buttonEl =\n",
              "          document.querySelector('#df-873cb288-d43f-4696-af30-9879bfd7d5d3 button.colab-df-convert');\n",
              "        buttonEl.style.display =\n",
              "          google.colab.kernel.accessAllowed ? 'block' : 'none';\n",
              "\n",
              "        async function convertToInteractive(key) {\n",
              "          const element = document.querySelector('#df-873cb288-d43f-4696-af30-9879bfd7d5d3');\n",
              "          const dataTable =\n",
              "            await google.colab.kernel.invokeFunction('convertToInteractive',\n",
              "                                                     [key], {});\n",
              "          if (!dataTable) return;\n",
              "\n",
              "          const docLinkHtml = 'Like what you see? Visit the ' +\n",
              "            '<a target=\"_blank\" href=https://colab.research.google.com/notebooks/data_table.ipynb>data table notebook</a>'\n",
              "            + ' to learn more about interactive tables.';\n",
              "          element.innerHTML = '';\n",
              "          dataTable['output_type'] = 'display_data';\n",
              "          await google.colab.output.renderOutput(dataTable, element);\n",
              "          const docLink = document.createElement('div');\n",
              "          docLink.innerHTML = docLinkHtml;\n",
              "          element.appendChild(docLink);\n",
              "        }\n",
              "      </script>\n",
              "    </div>\n",
              "  </div>\n",
              "  "
            ]
          },
          "metadata": {},
          "execution_count": 5
        }
      ]
    },
    {
      "cell_type": "code",
      "source": [
        "print('there are ', len(np.unique(acquaintances_table['source'])), 'unique ids in the source acquaintance table, and there are', len(np.unique(acquaintances_table['target'])), 'unique ids in the targets')"
      ],
      "metadata": {
        "colab": {
          "base_uri": "https://localhost:8080/"
        },
        "id": "SGisN_cI_v3Z",
        "outputId": "4dbfb6a6-0238-4d89-e313-cb5de2cb0d30"
      },
      "execution_count": 6,
      "outputs": [
        {
          "output_type": "stream",
          "name": "stdout",
          "text": [
            "there are  33 unique ids in the source acquaintance table, and there are 41 unique ids in the targets\n"
          ]
        }
      ]
    },
    {
      "cell_type": "code",
      "source": [
        "print('there are ', len(np.unique(random_table['source'])), 'unique ids in the source acquaintance table, and there are', len(np.unique(random_table['target'])), 'unique ids in the targets')"
      ],
      "metadata": {
        "colab": {
          "base_uri": "https://localhost:8080/"
        },
        "id": "nMiGhECU__KF",
        "outputId": "b281df80-2f14-435d-da9b-f11329058d77"
      },
      "execution_count": 7,
      "outputs": [
        {
          "output_type": "stream",
          "name": "stdout",
          "text": [
            "there are  45 unique ids in the source acquaintance table, and there are 58 unique ids in the targets\n"
          ]
        }
      ]
    },
    {
      "cell_type": "code",
      "source": [
        "random_graph = nx.Graph()\n",
        "for i in range(len(random_table['source'])):\n",
        "  random_graph.add_edge(random_table['source'].values[i], random_table['target'].values[i])\n",
        "\n",
        "GreatesConnectedComp = sorted(nx.connected_components(random_graph), key=len, reverse = True)\n",
        "#random_graph_gcc = \n",
        "random_graph = random_graph.subgraph(GreatesConnectedComp[0])"
      ],
      "metadata": {
        "id": "rf-ir9htAn1r"
      },
      "execution_count": 8,
      "outputs": []
    },
    {
      "cell_type": "code",
      "source": [
        "acquaintance_graph = nx.Graph()\n",
        "for i in range(len(acquaintances_table['source'])):\n",
        "  acquaintance_graph.add_edge(acquaintances_table['source'].values[i], acquaintances_table['target'].values[i])\n",
        "\n",
        "GreatesConnectedComp = sorted(nx.connected_components(acquaintance_graph), key=len, reverse = True)\n",
        "#random_graph_gcc = \n",
        "print(len(GreatesConnectedComp[1]))\n",
        "acquaintance_graph = acquaintance_graph.subgraph(GreatesConnectedComp[0])"
      ],
      "metadata": {
        "colab": {
          "base_uri": "https://localhost:8080/"
        },
        "id": "QjOtCt6JA6uk",
        "outputId": "ced50fac-928f-4b74-d3d9-ac3b761ce5b2"
      },
      "execution_count": 9,
      "outputs": [
        {
          "output_type": "stream",
          "name": "stdout",
          "text": [
            "2\n"
          ]
        }
      ]
    },
    {
      "cell_type": "markdown",
      "source": [
        "##Basic Network Analysis 1"
      ],
      "metadata": {
        "id": "r5Vh39F9jS2l"
      }
    },
    {
      "cell_type": "code",
      "source": [
        "print('Question 1, Basic Network analysis')\n",
        "\n",
        "\n",
        "\n",
        "\n",
        "print('there are', nx.number_of_nodes(random_graph), 'nodes in the random graph. There are', nx.number_of_edges(random_graph), 'links')\n",
        "print('there are', nx.number_of_nodes(acquaintance_graph), 'nodes in the acquaintance graph. There are', nx.number_of_edges(acquaintance_graph), 'links')"
      ],
      "metadata": {
        "colab": {
          "base_uri": "https://localhost:8080/"
        },
        "id": "3Fzm91-4CGcI",
        "outputId": "b6fbe5f3-7a39-4860-f7d2-5414d149dcfe"
      },
      "execution_count": 28,
      "outputs": [
        {
          "output_type": "stream",
          "name": "stdout",
          "text": [
            "Question 1, Basic Network analysis\n",
            "there are 60 nodes in the random graph. There are 174 links\n",
            "there are 41 nodes in the acquaintance graph. There are 63 links\n"
          ]
        }
      ]
    },
    {
      "cell_type": "code",
      "source": [
        "degree_dict_rand = {}\n",
        "for node in random_graph.nodes:\n",
        "  degree_dict_rand[node] = random_graph.degree(node)\n",
        "\n",
        "degree_dict_acq = {}\n",
        "for node in acquaintance_graph.nodes:\n",
        "  degree_dict_acq[node] = acquaintance_graph.degree(node)\n",
        "max_deg_random = max(degree_dict_rand.values())\n",
        "max_deg_acq = max(degree_dict_acq.values())\n",
        "\n",
        "maxdeg_node_rand = degree_dict_rand.get(max_deg_random)\n",
        "maxdeg_node_acq = degree_dict_acq.get(max_deg_acq)"
      ],
      "metadata": {
        "id": "jsgz7v_8CIRV",
        "colab": {
          "base_uri": "https://localhost:8080/"
        },
        "outputId": "54a94069-4c49-404d-80ad-f8afade00e48"
      },
      "execution_count": 30,
      "outputs": [
        {
          "output_type": "stream",
          "name": "stdout",
          "text": [
            "4\n"
          ]
        }
      ]
    },
    {
      "cell_type": "markdown",
      "source": [
        "##Basic Network Analysis 2"
      ],
      "metadata": {
        "id": "kfrRoEVsjK6U"
      }
    },
    {
      "cell_type": "code",
      "source": [
        "print('Question 2, Basic Network analysis')\n",
        "\n",
        "\n",
        "\n",
        "\n",
        "print(maxdeg_node_rand, 'has the max degree of', max_deg_random, 'of the random graph')\n",
        "print(degree_dict_acq.get(max_deg_acq), 'has the max degree of', max_deg_acq, 'of the acquaintance graph')"
      ],
      "metadata": {
        "colab": {
          "base_uri": "https://localhost:8080/"
        },
        "id": "owgDpG7fFUvA",
        "outputId": "23c9bb98-daf9-4800-c0c5-c7b1e9b43704"
      },
      "execution_count": 33,
      "outputs": [
        {
          "output_type": "stream",
          "name": "stdout",
          "text": [
            "Question 2, Basic Network analysis\n",
            "7 has the max degree of 13 of the random graph\n",
            "4 has the max degree of 10 of the acquaintance graph\n"
          ]
        }
      ]
    },
    {
      "cell_type": "code",
      "source": [
        "#Creating the tables.\n",
        "table_rand = pd.DataFrame()\n",
        "table_rand['Network'] = ['ClassNetwork_Random', 'Random Graph Model (p=__,N=__)', 'Small World Model (p,k,n)(p=__,N=___,k=___)', 'Barabasi Albert Model (N=___,Kmin=____)']"
      ],
      "metadata": {
        "id": "Ko6OXPh_Fp9o"
      },
      "execution_count": 13,
      "outputs": []
    },
    {
      "cell_type": "code",
      "source": [
        "table_rand['Average Clustering Coeff'] = np.zeros(4)\n",
        "table_rand['Average Degrees'] = np.zeros(4)\n",
        "table_rand['Average Shortest Path'] = np.zeros(4)\n",
        "table_rand['Num Nodes'] = np.zeros(4)\n",
        "table_rand['Num Links'] = np.zeros(4)"
      ],
      "metadata": {
        "id": "nZhALKgAPN6l"
      },
      "execution_count": 14,
      "outputs": []
    },
    {
      "cell_type": "code",
      "source": [
        "table_acq = pd.DataFrame()\n",
        "table_acq['Network'] = ['ClassNetwork_Acq', 'Random Graph Model (p=__,N=__)', 'Small World Model (p,k,n)(p=__,N=___,k=___)', 'Barabasi Albert Model (N=___,Kmin=____)']\n",
        "table_acq['Average Clustering Coeff'] = np.zeros(4)\n",
        "table_acq['Average Degrees'] = np.zeros(4)\n",
        "table_acq['Average Shortest Path'] = np.zeros(4)\n",
        "table_acq['Num Nodes'] = np.zeros(4)\n",
        "table_acq['Num Links'] = np.zeros(4)"
      ],
      "metadata": {
        "id": "awwo7O45PkzH"
      },
      "execution_count": 15,
      "outputs": []
    },
    {
      "cell_type": "code",
      "source": [
        "#Creating the models for the random\n",
        "rand_random_model = nx.erdos_renyi_graph(60, .2)\n",
        "rand_smallworld_model = nx.watts_strogatz_graph(60, 2, .01)\n",
        "rand_barabasi_model = nx.barabasi_albert_graph(60, 3)"
      ],
      "metadata": {
        "id": "-MdJziwLQr2I"
      },
      "execution_count": 16,
      "outputs": []
    },
    {
      "cell_type": "code",
      "source": [
        "#calculate the first row of random graph of students from data in class\n",
        "our_data_rand_CC = nx.average_clustering(random_graph)\n",
        "our_data_rand_deg = np.mean(list(dict(random_graph.degree()).values()))\n",
        "our_data_rand_shortpath = nx.average_shortest_path_length(random_graph)\n",
        "our_data_rand_num_nodes = nx.number_of_nodes(random_graph)\n",
        "our_data_rand_num_links = nx.number_of_edges(random_graph)\n",
        "\n",
        "#This will insert all items in one row, old school style\n",
        "# insert_item('Average Clustering Coeff', 0 ,our_data_rand_CC, table_rand)\n",
        "# insert_item('Average Degrees', 0 ,our_data_rand_deg, table_rand)\n",
        "# insert_item('Average Shortest Path', 0 ,our_data_rand_shortpath, table_rand)\n",
        "# insert_item('Num Nodes', 0 ,our_data_rand_num_nodes, table_rand)\n",
        "# insert_item('Num Links', 0 ,our_data_rand_num_links, table_rand)"
      ],
      "metadata": {
        "id": "7tpM0caCTt5E"
      },
      "execution_count": 17,
      "outputs": []
    },
    {
      "cell_type": "code",
      "source": [
        "#Calculating the information for a row of the table.\n",
        "def calc_info(graph):\n",
        "  CC = nx.average_clustering(graph)\n",
        "  avg_deg = np.mean(list(dict(graph.degree()).values()))\n",
        "  shortpath = nx.average_shortest_path_length(graph)\n",
        "  num_nodes = nx.number_of_nodes(graph)\n",
        "  num_links = nx.number_of_edges(graph)\n",
        "  return [CC, avg_deg, shortpath, num_nodes, num_links]\n",
        "#Insert and item in a specific row and colomn of a data frame\n",
        "def insert_item(column, row, item, df):\n",
        "  df.at[row, column] =  item\n",
        "\n",
        "#insert a full row in a data frame\n",
        "def insert_row(columns, row, info, df):\n",
        "  input_columns = columns[1:]\n",
        "  for  i, column in enumerate(input_columns):\n",
        "    insert_item(column, row, info[i], df)"
      ],
      "metadata": {
        "id": "pa3ai5AlVXKt"
      },
      "execution_count": 18,
      "outputs": []
    },
    {
      "cell_type": "code",
      "source": [],
      "metadata": {
        "id": "O9WiauDsXPxF"
      },
      "execution_count": 18,
      "outputs": []
    },
    {
      "cell_type": "code",
      "source": [
        "#Create a function to form the graphs:\n",
        "def create_graph(type_graph, p_connect, num_nodes, p_shuffle, k, kmin):\n",
        "  if type_graph == 'rand':\n",
        "      return nx.erdos_renyi_graph(num_nodes, p_connect)\n",
        "  elif type_graph == 'watts':\n",
        "      return nx.watts_strogatz_graph(num_nodes, k, p_shuffle)\n",
        "  else:\n",
        "      return nx.barabasi_albert_graph(num_nodes, kmin)\n",
        "\n",
        "#Create a function that will take in empty dataframes and create a filled in table as the one on the homework shows!!\n",
        "def createNfill_table(graphs, graph_names):\n",
        "  df = pd.DataFrame()\n",
        "  df['Network'] = [graph_names[0], graph_names[1], graph_names[2], graph_names[3]]\n",
        "  df['Average Clustering Coeff'] = np.zeros(4)\n",
        "  df['Average Degrees'] = np.zeros(4)\n",
        "  df['Average Shortest Path'] = np.zeros(4)\n",
        "  df['Num Nodes'] = np.zeros(4)\n",
        "  df['Num Links'] = np.zeros(4)\n",
        "  for row_index, graph in enumerate(graphs):\n",
        "    print('graph index:', row_index)\n",
        "    input_info = calc_info(graph)\n",
        "    columns = df.columns\n",
        "    insert_row(columns, row_index, input_info, df)\n",
        "  return df\n",
        "\n",
        "#Creating all the graph names for our table, the network Row\n",
        "def create_graph_names(vals, rand):\n",
        "  graph_names = []\n",
        "  if rand == True:\n",
        "    graph_names.append('ClassNetwork_Random')\n",
        "  else:\n",
        "    graph_names.append('ClassNetwork_Acquaintances')\n",
        "  graph_names.append(str('Random Graph Model (p=' + str(vals[0]) + ', N=' + str(vals[1]) + ')'))\n",
        "  graph_names.append('Small World Model (p,k,n)(p={}, N={} ,k={})'.format(vals[2], vals[1], vals[3]))\n",
        "  graph_names.append('Barabasi Albert Model (N={}, Kmin={})'.format(vals[1], vals[4]))\n",
        "  return graph_names\n",
        "\n",
        "#Creates arrays for the degree distribution of each graph\n",
        "def create_hists(graph_array, graph_names):\n",
        "  for i, graph in enumerate(graph_array):\n",
        "    degree_arr = []\n",
        "    for node in graph.nodes:\n",
        "      degree_arr.append(nx.degree(graph, node))\n",
        "    plt.hist(degree_arr, bins = 10, density = True)\n",
        "    plt.xlabel('Degree of nodes')\n",
        "    plt.ylabel('percent of nodes with degree___')\n",
        "    plt.title(graph_names[i])\n",
        "    plt.show()"
      ],
      "metadata": {
        "id": "wO_bRedTXWOZ"
      },
      "execution_count": 19,
      "outputs": []
    },
    {
      "cell_type": "code",
      "source": [
        "#I must create the three graphs first for the random graph table\n",
        "print('the average number of links:', 174*2/60)\n",
        "#estimate clustering coeff for QUESTION 3\n",
        "C0 = nx.average_clustering(nx.watts_strogatz_graph(60, 7, 0))\n",
        "\n",
        "Cp = C0*(1-.1)**3\n",
        "print('the C(p) value that is calculated is:', Cp)\n",
        "\n",
        "prob_reshuffle = 1 - pow(Cp/C0, 1/3)\n",
        "random_p = .10\n",
        "num_nodes = 60\n",
        "num_connections = 4\n",
        "min_connections = 3\n",
        "\n",
        "\n",
        "rand_vals = [random_p, num_nodes, prob_reshuffle, num_connections, min_connections]\n",
        "\n",
        "\n",
        "\n",
        "random_class_graph = random_graph\n",
        "random_model = create_graph('rand', *rand_vals)\n",
        "small_world_model = create_graph('watts', *rand_vals)\n",
        "brabasi_model = create_graph('barb', *rand_vals)\n",
        "\n",
        "\n",
        "rand_graph_names = create_graph_names(rand_vals, rand=True)\n",
        "\n",
        "\n",
        "rand_graphs = [random_class_graph, random_model, small_world_model, brabasi_model]"
      ],
      "metadata": {
        "colab": {
          "base_uri": "https://localhost:8080/"
        },
        "id": "NptC2L8C5XTo",
        "outputId": "ebb026fd-f449-42aa-8290-ea0a1d279c43"
      },
      "execution_count": 26,
      "outputs": [
        {
          "output_type": "stream",
          "name": "stdout",
          "text": [
            "the average number of links: 5.8\n",
            "the C(p) value that is calculated is: 0.4374000000000006\n"
          ]
        }
      ]
    },
    {
      "cell_type": "markdown",
      "source": [
        "##Questions 1-5 for the random class network.\n",
        "####Check above cell for analytical calculation of C(p)"
      ],
      "metadata": {
        "id": "VoACcDmdjciy"
      }
    },
    {
      "cell_type": "code",
      "source": [
        "createNfill_table(rand_graphs, rand_graph_names)"
      ],
      "metadata": {
        "colab": {
          "base_uri": "https://localhost:8080/",
          "height": 245
        },
        "id": "05XYXcgJ57uO",
        "outputId": "7f4b6d5a-8b79-4939-f687-178c6201cfaa"
      },
      "execution_count": 27,
      "outputs": [
        {
          "output_type": "stream",
          "name": "stdout",
          "text": [
            "graph index: 0\n",
            "graph index: 1\n",
            "graph index: 2\n",
            "graph index: 3\n"
          ]
        },
        {
          "output_type": "execute_result",
          "data": {
            "text/plain": [
              "                                             Network  \\\n",
              "0                                ClassNetwork_Random   \n",
              "1                   Random Graph Model (p=0.1, N=60)   \n",
              "2  Small World Model (p,k,n)(p=0.0999999999999999...   \n",
              "3               Barabasi Albert Model (N=60, Kmin=3)   \n",
              "\n",
              "   Average Clustering Coeff  Average Degrees  Average Shortest Path  \\\n",
              "0                  0.102122         5.800000               2.500000   \n",
              "1                  0.119309         6.766667               2.310734   \n",
              "2                  0.297778         4.000000               3.758757   \n",
              "3                  0.281972         5.700000               2.357627   \n",
              "\n",
              "   Num Nodes  Num Links  \n",
              "0       60.0      174.0  \n",
              "1       60.0      203.0  \n",
              "2       60.0      120.0  \n",
              "3       60.0      171.0  "
            ],
            "text/html": [
              "\n",
              "  <div id=\"df-dddfaddc-8d1c-4b57-971c-1e9b24492b28\">\n",
              "    <div class=\"colab-df-container\">\n",
              "      <div>\n",
              "<style scoped>\n",
              "    .dataframe tbody tr th:only-of-type {\n",
              "        vertical-align: middle;\n",
              "    }\n",
              "\n",
              "    .dataframe tbody tr th {\n",
              "        vertical-align: top;\n",
              "    }\n",
              "\n",
              "    .dataframe thead th {\n",
              "        text-align: right;\n",
              "    }\n",
              "</style>\n",
              "<table border=\"1\" class=\"dataframe\">\n",
              "  <thead>\n",
              "    <tr style=\"text-align: right;\">\n",
              "      <th></th>\n",
              "      <th>Network</th>\n",
              "      <th>Average Clustering Coeff</th>\n",
              "      <th>Average Degrees</th>\n",
              "      <th>Average Shortest Path</th>\n",
              "      <th>Num Nodes</th>\n",
              "      <th>Num Links</th>\n",
              "    </tr>\n",
              "  </thead>\n",
              "  <tbody>\n",
              "    <tr>\n",
              "      <th>0</th>\n",
              "      <td>ClassNetwork_Random</td>\n",
              "      <td>0.102122</td>\n",
              "      <td>5.800000</td>\n",
              "      <td>2.500000</td>\n",
              "      <td>60.0</td>\n",
              "      <td>174.0</td>\n",
              "    </tr>\n",
              "    <tr>\n",
              "      <th>1</th>\n",
              "      <td>Random Graph Model (p=0.1, N=60)</td>\n",
              "      <td>0.119309</td>\n",
              "      <td>6.766667</td>\n",
              "      <td>2.310734</td>\n",
              "      <td>60.0</td>\n",
              "      <td>203.0</td>\n",
              "    </tr>\n",
              "    <tr>\n",
              "      <th>2</th>\n",
              "      <td>Small World Model (p,k,n)(p=0.0999999999999999...</td>\n",
              "      <td>0.297778</td>\n",
              "      <td>4.000000</td>\n",
              "      <td>3.758757</td>\n",
              "      <td>60.0</td>\n",
              "      <td>120.0</td>\n",
              "    </tr>\n",
              "    <tr>\n",
              "      <th>3</th>\n",
              "      <td>Barabasi Albert Model (N=60, Kmin=3)</td>\n",
              "      <td>0.281972</td>\n",
              "      <td>5.700000</td>\n",
              "      <td>2.357627</td>\n",
              "      <td>60.0</td>\n",
              "      <td>171.0</td>\n",
              "    </tr>\n",
              "  </tbody>\n",
              "</table>\n",
              "</div>\n",
              "      <button class=\"colab-df-convert\" onclick=\"convertToInteractive('df-dddfaddc-8d1c-4b57-971c-1e9b24492b28')\"\n",
              "              title=\"Convert this dataframe to an interactive table.\"\n",
              "              style=\"display:none;\">\n",
              "        \n",
              "  <svg xmlns=\"http://www.w3.org/2000/svg\" height=\"24px\"viewBox=\"0 0 24 24\"\n",
              "       width=\"24px\">\n",
              "    <path d=\"M0 0h24v24H0V0z\" fill=\"none\"/>\n",
              "    <path d=\"M18.56 5.44l.94 2.06.94-2.06 2.06-.94-2.06-.94-.94-2.06-.94 2.06-2.06.94zm-11 1L8.5 8.5l.94-2.06 2.06-.94-2.06-.94L8.5 2.5l-.94 2.06-2.06.94zm10 10l.94 2.06.94-2.06 2.06-.94-2.06-.94-.94-2.06-.94 2.06-2.06.94z\"/><path d=\"M17.41 7.96l-1.37-1.37c-.4-.4-.92-.59-1.43-.59-.52 0-1.04.2-1.43.59L10.3 9.45l-7.72 7.72c-.78.78-.78 2.05 0 2.83L4 21.41c.39.39.9.59 1.41.59.51 0 1.02-.2 1.41-.59l7.78-7.78 2.81-2.81c.8-.78.8-2.07 0-2.86zM5.41 20L4 18.59l7.72-7.72 1.47 1.35L5.41 20z\"/>\n",
              "  </svg>\n",
              "      </button>\n",
              "      \n",
              "  <style>\n",
              "    .colab-df-container {\n",
              "      display:flex;\n",
              "      flex-wrap:wrap;\n",
              "      gap: 12px;\n",
              "    }\n",
              "\n",
              "    .colab-df-convert {\n",
              "      background-color: #E8F0FE;\n",
              "      border: none;\n",
              "      border-radius: 50%;\n",
              "      cursor: pointer;\n",
              "      display: none;\n",
              "      fill: #1967D2;\n",
              "      height: 32px;\n",
              "      padding: 0 0 0 0;\n",
              "      width: 32px;\n",
              "    }\n",
              "\n",
              "    .colab-df-convert:hover {\n",
              "      background-color: #E2EBFA;\n",
              "      box-shadow: 0px 1px 2px rgba(60, 64, 67, 0.3), 0px 1px 3px 1px rgba(60, 64, 67, 0.15);\n",
              "      fill: #174EA6;\n",
              "    }\n",
              "\n",
              "    [theme=dark] .colab-df-convert {\n",
              "      background-color: #3B4455;\n",
              "      fill: #D2E3FC;\n",
              "    }\n",
              "\n",
              "    [theme=dark] .colab-df-convert:hover {\n",
              "      background-color: #434B5C;\n",
              "      box-shadow: 0px 1px 3px 1px rgba(0, 0, 0, 0.15);\n",
              "      filter: drop-shadow(0px 1px 2px rgba(0, 0, 0, 0.3));\n",
              "      fill: #FFFFFF;\n",
              "    }\n",
              "  </style>\n",
              "\n",
              "      <script>\n",
              "        const buttonEl =\n",
              "          document.querySelector('#df-dddfaddc-8d1c-4b57-971c-1e9b24492b28 button.colab-df-convert');\n",
              "        buttonEl.style.display =\n",
              "          google.colab.kernel.accessAllowed ? 'block' : 'none';\n",
              "\n",
              "        async function convertToInteractive(key) {\n",
              "          const element = document.querySelector('#df-dddfaddc-8d1c-4b57-971c-1e9b24492b28');\n",
              "          const dataTable =\n",
              "            await google.colab.kernel.invokeFunction('convertToInteractive',\n",
              "                                                     [key], {});\n",
              "          if (!dataTable) return;\n",
              "\n",
              "          const docLinkHtml = 'Like what you see? Visit the ' +\n",
              "            '<a target=\"_blank\" href=https://colab.research.google.com/notebooks/data_table.ipynb>data table notebook</a>'\n",
              "            + ' to learn more about interactive tables.';\n",
              "          element.innerHTML = '';\n",
              "          dataTable['output_type'] = 'display_data';\n",
              "          await google.colab.output.renderOutput(dataTable, element);\n",
              "          const docLink = document.createElement('div');\n",
              "          docLink.innerHTML = docLinkHtml;\n",
              "          element.appendChild(docLink);\n",
              "        }\n",
              "      </script>\n",
              "    </div>\n",
              "  </div>\n",
              "  "
            ]
          },
          "metadata": {},
          "execution_count": 27
        }
      ]
    },
    {
      "cell_type": "markdown",
      "source": [
        "##Question 6 for the random class networks"
      ],
      "metadata": {
        "id": "ZHY9BcIljp6I"
      }
    },
    {
      "cell_type": "code",
      "source": [
        "create_hists(rand_graphs, rand_graph_names)"
      ],
      "metadata": {
        "colab": {
          "base_uri": "https://localhost:8080/",
          "height": 1000
        },
        "id": "RngEu2wNmNz8",
        "outputId": "0c6cf93c-4492-43da-9e0b-a50a07ee63da"
      },
      "execution_count": 22,
      "outputs": [
        {
          "output_type": "display_data",
          "data": {
            "text/plain": [
              "<Figure size 432x288 with 1 Axes>"
            ],
            "image/png": "[encoded data removed]"
          },
          "metadata": {
            "needs_background": "light"
          }
        },
        {
          "output_type": "display_data",
          "data": {
            "text/plain": [
              "<Figure size 432x288 with 1 Axes>"
            ],
            "image/png": "[encoded data removed]"
          },
          "metadata": {
            "needs_background": "light"
          }
        },
        {
          "output_type": "display_data",
          "data": {
            "text/plain": [
              "<Figure size 432x288 with 1 Axes>"
            ],
            "image/png": "[encoded data removed]"
          },
          "metadata": {
            "needs_background": "light"
          }
        },
        {
          "output_type": "display_data",
          "data": {
            "text/plain": [
              "<Figure size 432x288 with 1 Axes>"
            ],
            "image/png": "[encoded data removed]"
          },
          "metadata": {
            "needs_background": "light"
          }
        }
      ]
    },
    {
      "cell_type": "code",
      "source": [
        "#I must create the three graphs first for the acquaintances graph table\n",
        "print('the average number of links:', 92*2/40)\n",
        "#estimate clustering coeff for QUESTION 3\n",
        "C0 = nx.average_clustering(nx.watts_strogatz_graph(41, 4, 0))\n",
        "\n",
        "Cp = C0*(1-.1)**3\n",
        "print('the C(p) value calculated is:', Cp)\n",
        "\n",
        "prob_reshuffle = 1 - pow(Cp/C0, 1/3)\n",
        "random_p = .1\n",
        "num_nodes = 40\n",
        "num_connections = 4\n",
        "min_connections = 3\n",
        "\n",
        "\n",
        "rand_vals = [random_p, num_nodes, prob_reshuffle, num_connections, min_connections]\n",
        "\n",
        "\n",
        "\n",
        "acquaintance_class_graph = acquaintance_graph\n",
        "random_model = create_graph('rand', *rand_vals)\n",
        "small_world_model = create_graph('watts', *rand_vals)\n",
        "#GreatesConnectedComp = sorted(nx.connected_components(small_world_model), key=len, reverse = True)\n",
        "#small_world_model = nx.subgraph(small_world_model, GreatesConnectedComp[0])\n",
        "brabasi_model = create_graph('barb', *rand_vals)\n",
        "\n",
        "\n",
        "acq_graph_names = create_graph_names(rand_vals, rand=False)\n",
        "\n",
        "\n",
        "acq_graphs = [acquaintance_class_graph, random_model, small_world_model, brabasi_model]"
      ],
      "metadata": {
        "colab": {
          "base_uri": "https://localhost:8080/"
        },
        "id": "bL56qBrQCDZp",
        "outputId": "268e3b50-43f7-4b79-86da-549c76cfc866"
      },
      "execution_count": 23,
      "outputs": [
        {
          "output_type": "stream",
          "name": "stdout",
          "text": [
            "the average number of links: 4.6\n",
            "the C(p) value calculated is: 0.36450000000000005\n"
          ]
        }
      ]
    },
    {
      "cell_type": "markdown",
      "source": [
        "##Question 1-5 for the acquaintances class network\n",
        "\n",
        "####See above cell for analytical C(p) *solution*"
      ],
      "metadata": {
        "id": "cxcTDg1ajxUn"
      }
    },
    {
      "cell_type": "code",
      "source": [
        "createNfill_table(acq_graphs, acq_graph_names)"
      ],
      "metadata": {
        "colab": {
          "base_uri": "https://localhost:8080/",
          "height": 245
        },
        "id": "eNmvPX1oDA0i",
        "outputId": "50a4d258-27aa-45d2-a329-86643ebf6e83"
      },
      "execution_count": 24,
      "outputs": [
        {
          "output_type": "stream",
          "name": "stdout",
          "text": [
            "graph index: 0\n",
            "graph index: 1\n",
            "graph index: 2\n",
            "graph index: 3\n"
          ]
        },
        {
          "output_type": "execute_result",
          "data": {
            "text/plain": [
              "                                             Network  \\\n",
              "0                         ClassNetwork_Acquaintances   \n",
              "1                   Random Graph Model (p=0.1, N=40)   \n",
              "2  Small World Model (p,k,n)(p=0.0999999999999999...   \n",
              "3               Barabasi Albert Model (N=40, Kmin=3)   \n",
              "\n",
              "   Average Clustering Coeff  Average Degrees  Average Shortest Path  \\\n",
              "0                  0.308014         3.073171               3.758537   \n",
              "1                  0.071567         4.550000               2.482051   \n",
              "2                  0.333333         4.000000               3.342308   \n",
              "3                  0.223089         5.550000               2.184615   \n",
              "\n",
              "   Num Nodes  Num Links  \n",
              "0       41.0       63.0  \n",
              "1       40.0       91.0  \n",
              "2       40.0       80.0  \n",
              "3       40.0      111.0  "
            ],
            "text/html": [
              "\n",
              "  <div id=\"df-1995db74-c3e7-45df-8e76-19c9e08f3141\">\n",
              "    <div class=\"colab-df-container\">\n",
              "      <div>\n",
              "<style scoped>\n",
              "    .dataframe tbody tr th:only-of-type {\n",
              "        vertical-align: middle;\n",
              "    }\n",
              "\n",
              "    .dataframe tbody tr th {\n",
              "        vertical-align: top;\n",
              "    }\n",
              "\n",
              "    .dataframe thead th {\n",
              "        text-align: right;\n",
              "    }\n",
              "</style>\n",
              "<table border=\"1\" class=\"dataframe\">\n",
              "  <thead>\n",
              "    <tr style=\"text-align: right;\">\n",
              "      <th></th>\n",
              "      <th>Network</th>\n",
              "      <th>Average Clustering Coeff</th>\n",
              "      <th>Average Degrees</th>\n",
              "      <th>Average Shortest Path</th>\n",
              "      <th>Num Nodes</th>\n",
              "      <th>Num Links</th>\n",
              "    </tr>\n",
              "  </thead>\n",
              "  <tbody>\n",
              "    <tr>\n",
              "      <th>0</th>\n",
              "      <td>ClassNetwork_Acquaintances</td>\n",
              "      <td>0.308014</td>\n",
              "      <td>3.073171</td>\n",
              "      <td>3.758537</td>\n",
              "      <td>41.0</td>\n",
              "      <td>63.0</td>\n",
              "    </tr>\n",
              "    <tr>\n",
              "      <th>1</th>\n",
              "      <td>Random Graph Model (p=0.1, N=40)</td>\n",
              "      <td>0.071567</td>\n",
              "      <td>4.550000</td>\n",
              "      <td>2.482051</td>\n",
              "      <td>40.0</td>\n",
              "      <td>91.0</td>\n",
              "    </tr>\n",
              "    <tr>\n",
              "      <th>2</th>\n",
              "      <td>Small World Model (p,k,n)(p=0.0999999999999999...</td>\n",
              "      <td>0.333333</td>\n",
              "      <td>4.000000</td>\n",
              "      <td>3.342308</td>\n",
              "      <td>40.0</td>\n",
              "      <td>80.0</td>\n",
              "    </tr>\n",
              "    <tr>\n",
              "      <th>3</th>\n",
              "      <td>Barabasi Albert Model (N=40, Kmin=3)</td>\n",
              "      <td>0.223089</td>\n",
              "      <td>5.550000</td>\n",
              "      <td>2.184615</td>\n",
              "      <td>40.0</td>\n",
              "      <td>111.0</td>\n",
              "    </tr>\n",
              "  </tbody>\n",
              "</table>\n",
              "</div>\n",
              "      <button class=\"colab-df-convert\" onclick=\"convertToInteractive('df-1995db74-c3e7-45df-8e76-19c9e08f3141')\"\n",
              "              title=\"Convert this dataframe to an interactive table.\"\n",
              "              style=\"display:none;\">\n",
              "        \n",
              "  <svg xmlns=\"http://www.w3.org/2000/svg\" height=\"24px\"viewBox=\"0 0 24 24\"\n",
              "       width=\"24px\">\n",
              "    <path d=\"M0 0h24v24H0V0z\" fill=\"none\"/>\n",
              "    <path d=\"M18.56 5.44l.94 2.06.94-2.06 2.06-.94-2.06-.94-.94-2.06-.94 2.06-2.06.94zm-11 1L8.5 8.5l.94-2.06 2.06-.94-2.06-.94L8.5 2.5l-.94 2.06-2.06.94zm10 10l.94 2.06.94-2.06 2.06-.94-2.06-.94-.94-2.06-.94 2.06-2.06.94z\"/><path d=\"M17.41 7.96l-1.37-1.37c-.4-.4-.92-.59-1.43-.59-.52 0-1.04.2-1.43.59L10.3 9.45l-7.72 7.72c-.78.78-.78 2.05 0 2.83L4 21.41c.39.39.9.59 1.41.59.51 0 1.02-.2 1.41-.59l7.78-7.78 2.81-2.81c.8-.78.8-2.07 0-2.86zM5.41 20L4 18.59l7.72-7.72 1.47 1.35L5.41 20z\"/>\n",
              "  </svg>\n",
              "      </button>\n",
              "      \n",
              "  <style>\n",
              "    .colab-df-container {\n",
              "      display:flex;\n",
              "      flex-wrap:wrap;\n",
              "      gap: 12px;\n",
              "    }\n",
              "\n",
              "    .colab-df-convert {\n",
              "      background-color: #E8F0FE;\n",
              "      border: none;\n",
              "      border-radius: 50%;\n",
              "      cursor: pointer;\n",
              "      display: none;\n",
              "      fill: #1967D2;\n",
              "      height: 32px;\n",
              "      padding: 0 0 0 0;\n",
              "      width: 32px;\n",
              "    }\n",
              "\n",
              "    .colab-df-convert:hover {\n",
              "      background-color: #E2EBFA;\n",
              "      box-shadow: 0px 1px 2px rgba(60, 64, 67, 0.3), 0px 1px 3px 1px rgba(60, 64, 67, 0.15);\n",
              "      fill: #174EA6;\n",
              "    }\n",
              "\n",
              "    [theme=dark] .colab-df-convert {\n",
              "      background-color: #3B4455;\n",
              "      fill: #D2E3FC;\n",
              "    }\n",
              "\n",
              "    [theme=dark] .colab-df-convert:hover {\n",
              "      background-color: #434B5C;\n",
              "      box-shadow: 0px 1px 3px 1px rgba(0, 0, 0, 0.15);\n",
              "      filter: drop-shadow(0px 1px 2px rgba(0, 0, 0, 0.3));\n",
              "      fill: #FFFFFF;\n",
              "    }\n",
              "  </style>\n",
              "\n",
              "      <script>\n",
              "        const buttonEl =\n",
              "          document.querySelector('#df-1995db74-c3e7-45df-8e76-19c9e08f3141 button.colab-df-convert');\n",
              "        buttonEl.style.display =\n",
              "          google.colab.kernel.accessAllowed ? 'block' : 'none';\n",
              "\n",
              "        async function convertToInteractive(key) {\n",
              "          const element = document.querySelector('#df-1995db74-c3e7-45df-8e76-19c9e08f3141');\n",
              "          const dataTable =\n",
              "            await google.colab.kernel.invokeFunction('convertToInteractive',\n",
              "                                                     [key], {});\n",
              "          if (!dataTable) return;\n",
              "\n",
              "          const docLinkHtml = 'Like what you see? Visit the ' +\n",
              "            '<a target=\"_blank\" href=https://colab.research.google.com/notebooks/data_table.ipynb>data table notebook</a>'\n",
              "            + ' to learn more about interactive tables.';\n",
              "          element.innerHTML = '';\n",
              "          dataTable['output_type'] = 'display_data';\n",
              "          await google.colab.output.renderOutput(dataTable, element);\n",
              "          const docLink = document.createElement('div');\n",
              "          docLink.innerHTML = docLinkHtml;\n",
              "          element.appendChild(docLink);\n",
              "        }\n",
              "      </script>\n",
              "    </div>\n",
              "  </div>\n",
              "  "
            ]
          },
          "metadata": {},
          "execution_count": 24
        }
      ]
    },
    {
      "cell_type": "markdown",
      "source": [
        "##Question 6 for the acquaintances class network"
      ],
      "metadata": {
        "id": "SK8WrZClj69z"
      }
    },
    {
      "cell_type": "code",
      "source": [
        "create_hists(acq_graphs, acq_graph_names)"
      ],
      "metadata": {
        "id": "Mhy63JpB8tK_",
        "colab": {
          "base_uri": "https://localhost:8080/",
          "height": 1000
        },
        "outputId": "05422c09-1d45-4879-bcde-973a3833820c"
      },
      "execution_count": 25,
      "outputs": [
        {
          "output_type": "display_data",
          "data": {
            "text/plain": [
              "<Figure size 432x288 with 1 Axes>"
            ],
            "image/png": "[encoded data removed]"
          },
          "metadata": {
            "needs_background": "light"
          }
        },
        {
          "output_type": "display_data",
          "data": {
            "text/plain": [
              "<Figure size 432x288 with 1 Axes>"
            ],
            "image/png": "[encoded data removed]"
          },
          "metadata": {
            "needs_background": "light"
          }
        },
        {
          "output_type": "display_data",
          "data": {
            "text/plain": [
              "<Figure size 432x288 with 1 Axes>"
            ],
            "image/png": "[encoded data removed]"
          },
          "metadata": {
            "needs_background": "light"
          }
        },
        {
          "output_type": "display_data",
          "data": {
            "text/plain": [
              "<Figure size 432x288 with 1 Axes>"
            ],
            "image/png": "[encoded data removed]"
          },
          "metadata": {
            "needs_background": "light"
          }
        }
      ]
    },
    {
      "cell_type": "markdown",
      "source": [
        "##Question 7 and 8:\n",
        "\n",
        "7)\n",
        "Lets look at the random class network that we created first. By name and practice, we should get a fairly random network. Indeed we see this to be true, Both the clustering coefficient and the average shortest path are nearly identical for the random model that we created, and the average degree is not far off. The other models are fairly far off, close to 2X the clustering coefficient and 1.5X higer average shortest path. The histograms are harder to infer things since we don't have many nodes to go off of. However we can see a sort of resemblance between the random model and our class sample. \n",
        "Then we look at the acquaintances graph. the numbers in the small world model match most closely with the key attributes of Clustering Coeff and average shortest path. The number of links is a little higher, but this is as we expected because we are looking at a \"social network\" which is as good of an example of a small world network as we can get. Once again the histograms are hard to conclude info from.\n",
        "\n",
        "8) The second empirical network has the small world network property because it has us identifying who we know. Mostly neighborhoods will be tight with here and there a person will connect with another person from outside the neighborhood. This will allow for smaller shortest distance. Social networks, such as the one we created, are great examples of small world networks. Everyone is connected to everyone else somehow(within 6 links)!"
      ],
      "metadata": {
        "id": "xOhbDm0QpfRo"
      }
    },
    {
      "cell_type": "code",
      "source": [],
      "metadata": {
        "id": "nXq6lRa_hrp6"
      },
      "execution_count": null,
      "outputs": []
    }
  ]
}