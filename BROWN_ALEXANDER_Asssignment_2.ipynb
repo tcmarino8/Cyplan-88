{
  "nbformat": 4,
  "nbformat_minor": 0,
  "metadata": {
    "colab": {
      "provenance": [],
      "toc_visible": true
    },
    "kernelspec": {
      "name": "python3",
      "display_name": "Python 3"
    },
    "language_info": {
      "name": "python"
    }
  },
  "cells": [
    {
      "cell_type": "code",
      "execution_count": 1,
      "metadata": {
        "id": "T0bgH3WWGqvw"
      },
      "outputs": [],
      "source": [
        "import pandas as pd\n",
        "import networkx as nx\n",
        "import numpy as np\n",
        "\n"
      ]
    },
    {
      "cell_type": "code",
      "source": [
        "from google.colab import files\n",
        "\n",
        "acq= files.upload()\n",
        "\n",
        "random = files.upload()\n"
      ],
      "metadata": {
        "id": "rCVeDLtoHW5I",
        "colab": {
          "base_uri": "https://localhost:8080/",
          "height": 128
        },
        "outputId": "0dc77d28-91b7-4fa4-dfba-e02fcf142161"
      },
      "execution_count": 2,
      "outputs": [
        {
          "output_type": "display_data",
          "data": {
            "text/plain": [
              "<IPython.core.display.HTML object>"
            ],
            "text/html": [
              "\n",
              "     <input type=\"file\" id=\"files-dbd90009-0aab-47f2-a281-196dacf7fba0\" name=\"files[]\" multiple disabled\n",
              "        style=\"border:none\" />\n",
              "     <output id=\"result-dbd90009-0aab-47f2-a281-196dacf7fba0\">\n",
              "      Upload widget is only available when the cell has been executed in the\n",
              "      current browser session. Please rerun this cell to enable.\n",
              "      </output>\n",
              "      <script>// Copyright 2017 Google LLC\n",
              "//\n",
              "// Licensed under the Apache License, Version 2.0 (the \"License\");\n",
              "// you may not use this file except in compliance with the License.\n",
              "// You may obtain a copy of the License at\n",
              "//\n",
              "//      http://www.apache.org/licenses/LICENSE-2.0\n",
              "//\n",
              "// Unless required by applicable law or agreed to in writing, software\n",
              "// distributed under the License is distributed on an \"AS IS\" BASIS,\n",
              "// WITHOUT WARRANTIES OR CONDITIONS OF ANY KIND, either express or implied.\n",
              "// See the License for the specific language governing permissions and\n",
              "// limitations under the License.\n",
              "\n",
              "/**\n",
              " * @fileoverview Helpers for google.colab Python module.\n",
              " */\n",
              "(function(scope) {\n",
              "function span(text, styleAttributes = {}) {\n",
              "  const element = document.createElement('span');\n",
              "  element.textContent = text;\n",
              "  for (const key of Object.keys(styleAttributes)) {\n",
              "    element.style[key] = styleAttributes[key];\n",
              "  }\n",
              "  return element;\n",
              "}\n",
              "\n",
              "// Max number of bytes which will be uploaded at a time.\n",
              "const MAX_PAYLOAD_SIZE = 100 * 1024;\n",
              "\n",
              "function _uploadFiles(inputId, outputId) {\n",
              "  const steps = uploadFilesStep(inputId, outputId);\n",
              "  const outputElement = document.getElementById(outputId);\n",
              "  // Cache steps on the outputElement to make it available for the next call\n",
              "  // to uploadFilesContinue from Python.\n",
              "  outputElement.steps = steps;\n",
              "\n",
              "  return _uploadFilesContinue(outputId);\n",
              "}\n",
              "\n",
              "// This is roughly an async generator (not supported in the browser yet),\n",
              "// where there are multiple asynchronous steps and the Python side is going\n",
              "// to poll for completion of each step.\n",
              "// This uses a Promise to block the python side on completion of each step,\n",
              "// then passes the result of the previous step as the input to the next step.\n",
              "function _uploadFilesContinue(outputId) {\n",
              "  const outputElement = document.getElementById(outputId);\n",
              "  const steps = outputElement.steps;\n",
              "\n",
              "  const next = steps.next(outputElement.lastPromiseValue);\n",
              "  return Promise.resolve(next.value.promise).then((value) => {\n",
              "    // Cache the last promise value to make it available to the next\n",
              "    // step of the generator.\n",
              "    outputElement.lastPromiseValue = value;\n",
              "    return next.value.response;\n",
              "  });\n",
              "}\n",
              "\n",
              "/**\n",
              " * Generator function which is called between each async step of the upload\n",
              " * process.\n",
              " * @param {string} inputId Element ID of the input file picker element.\n",
              " * @param {string} outputId Element ID of the output display.\n",
              " * @return {!Iterable<!Object>} Iterable of next steps.\n",
              " */\n",
              "function* uploadFilesStep(inputId, outputId) {\n",
              "  const inputElement = document.getElementById(inputId);\n",
              "  inputElement.disabled = false;\n",
              "\n",
              "  const outputElement = document.getElementById(outputId);\n",
              "  outputElement.innerHTML = '';\n",
              "\n",
              "  const pickedPromise = new Promise((resolve) => {\n",
              "    inputElement.addEventListener('change', (e) => {\n",
              "      resolve(e.target.files);\n",
              "    });\n",
              "  });\n",
              "\n",
              "  const cancel = document.createElement('button');\n",
              "  inputElement.parentElement.appendChild(cancel);\n",
              "  cancel.textContent = 'Cancel upload';\n",
              "  const cancelPromise = new Promise((resolve) => {\n",
              "    cancel.onclick = () => {\n",
              "      resolve(null);\n",
              "    };\n",
              "  });\n",
              "\n",
              "  // Wait for the user to pick the files.\n",
              "  const files = yield {\n",
              "    promise: Promise.race([pickedPromise, cancelPromise]),\n",
              "    response: {\n",
              "      action: 'starting',\n",
              "    }\n",
              "  };\n",
              "\n",
              "  cancel.remove();\n",
              "\n",
              "  // Disable the input element since further picks are not allowed.\n",
              "  inputElement.disabled = true;\n",
              "\n",
              "  if (!files) {\n",
              "    return {\n",
              "      response: {\n",
              "        action: 'complete',\n",
              "      }\n",
              "    };\n",
              "  }\n",
              "\n",
              "  for (const file of files) {\n",
              "    const li = document.createElement('li');\n",
              "    li.append(span(file.name, {fontWeight: 'bold'}));\n",
              "    li.append(span(\n",
              "        `(${file.type || 'n/a'}) - ${file.size} bytes, ` +\n",
              "        `last modified: ${\n",
              "            file.lastModifiedDate ? file.lastModifiedDate.toLocaleDateString() :\n",
              "                                    'n/a'} - `));\n",
              "    const percent = span('0% done');\n",
              "    li.appendChild(percent);\n",
              "\n",
              "    outputElement.appendChild(li);\n",
              "\n",
              "    const fileDataPromise = new Promise((resolve) => {\n",
              "      const reader = new FileReader();\n",
              "      reader.onload = (e) => {\n",
              "        resolve(e.target.result);\n",
              "      };\n",
              "      reader.readAsArrayBuffer(file);\n",
              "    });\n",
              "    // Wait for the data to be ready.\n",
              "    let fileData = yield {\n",
              "      promise: fileDataPromise,\n",
              "      response: {\n",
              "        action: 'continue',\n",
              "      }\n",
              "    };\n",
              "\n",
              "    // Use a chunked sending to avoid message size limits. See b/62115660.\n",
              "    let position = 0;\n",
              "    do {\n",
              "      const length = Math.min(fileData.byteLength - position, MAX_PAYLOAD_SIZE);\n",
              "      const chunk = new Uint8Array(fileData, position, length);\n",
              "      position += length;\n",
              "\n",
              "      const base64 = btoa(String.fromCharCode.apply(null, chunk));\n",
              "      yield {\n",
              "        response: {\n",
              "          action: 'append',\n",
              "          file: file.name,\n",
              "          data: base64,\n",
              "        },\n",
              "      };\n",
              "\n",
              "      let percentDone = fileData.byteLength === 0 ?\n",
              "          100 :\n",
              "          Math.round((position / fileData.byteLength) * 100);\n",
              "      percent.textContent = `${percentDone}% done`;\n",
              "\n",
              "    } while (position < fileData.byteLength);\n",
              "  }\n",
              "\n",
              "  // All done.\n",
              "  yield {\n",
              "    response: {\n",
              "      action: 'complete',\n",
              "    }\n",
              "  };\n",
              "}\n",
              "\n",
              "scope.google = scope.google || {};\n",
              "scope.google.colab = scope.google.colab || {};\n",
              "scope.google.colab._files = {\n",
              "  _uploadFiles,\n",
              "  _uploadFilesContinue,\n",
              "};\n",
              "})(self);\n",
              "</script> "
            ]
          },
          "metadata": {}
        },
        {
          "output_type": "stream",
          "name": "stdout",
          "text": [
            "Saving c88-2023_links_acquaintances - Sheet1.csv to c88-2023_links_acquaintances - Sheet1.csv\n"
          ]
        },
        {
          "output_type": "display_data",
          "data": {
            "text/plain": [
              "<IPython.core.display.HTML object>"
            ],
            "text/html": [
              "\n",
              "     <input type=\"file\" id=\"files-e49f2790-684f-4710-b0be-6000d1679d54\" name=\"files[]\" multiple disabled\n",
              "        style=\"border:none\" />\n",
              "     <output id=\"result-e49f2790-684f-4710-b0be-6000d1679d54\">\n",
              "      Upload widget is only available when the cell has been executed in the\n",
              "      current browser session. Please rerun this cell to enable.\n",
              "      </output>\n",
              "      <script>// Copyright 2017 Google LLC\n",
              "//\n",
              "// Licensed under the Apache License, Version 2.0 (the \"License\");\n",
              "// you may not use this file except in compliance with the License.\n",
              "// You may obtain a copy of the License at\n",
              "//\n",
              "//      http://www.apache.org/licenses/LICENSE-2.0\n",
              "//\n",
              "// Unless required by applicable law or agreed to in writing, software\n",
              "// distributed under the License is distributed on an \"AS IS\" BASIS,\n",
              "// WITHOUT WARRANTIES OR CONDITIONS OF ANY KIND, either express or implied.\n",
              "// See the License for the specific language governing permissions and\n",
              "// limitations under the License.\n",
              "\n",
              "/**\n",
              " * @fileoverview Helpers for google.colab Python module.\n",
              " */\n",
              "(function(scope) {\n",
              "function span(text, styleAttributes = {}) {\n",
              "  const element = document.createElement('span');\n",
              "  element.textContent = text;\n",
              "  for (const key of Object.keys(styleAttributes)) {\n",
              "    element.style[key] = styleAttributes[key];\n",
              "  }\n",
              "  return element;\n",
              "}\n",
              "\n",
              "// Max number of bytes which will be uploaded at a time.\n",
              "const MAX_PAYLOAD_SIZE = 100 * 1024;\n",
              "\n",
              "function _uploadFiles(inputId, outputId) {\n",
              "  const steps = uploadFilesStep(inputId, outputId);\n",
              "  const outputElement = document.getElementById(outputId);\n",
              "  // Cache steps on the outputElement to make it available for the next call\n",
              "  // to uploadFilesContinue from Python.\n",
              "  outputElement.steps = steps;\n",
              "\n",
              "  return _uploadFilesContinue(outputId);\n",
              "}\n",
              "\n",
              "// This is roughly an async generator (not supported in the browser yet),\n",
              "// where there are multiple asynchronous steps and the Python side is going\n",
              "// to poll for completion of each step.\n",
              "// This uses a Promise to block the python side on completion of each step,\n",
              "// then passes the result of the previous step as the input to the next step.\n",
              "function _uploadFilesContinue(outputId) {\n",
              "  const outputElement = document.getElementById(outputId);\n",
              "  const steps = outputElement.steps;\n",
              "\n",
              "  const next = steps.next(outputElement.lastPromiseValue);\n",
              "  return Promise.resolve(next.value.promise).then((value) => {\n",
              "    // Cache the last promise value to make it available to the next\n",
              "    // step of the generator.\n",
              "    outputElement.lastPromiseValue = value;\n",
              "    return next.value.response;\n",
              "  });\n",
              "}\n",
              "\n",
              "/**\n",
              " * Generator function which is called between each async step of the upload\n",
              " * process.\n",
              " * @param {string} inputId Element ID of the input file picker element.\n",
              " * @param {string} outputId Element ID of the output display.\n",
              " * @return {!Iterable<!Object>} Iterable of next steps.\n",
              " */\n",
              "function* uploadFilesStep(inputId, outputId) {\n",
              "  const inputElement = document.getElementById(inputId);\n",
              "  inputElement.disabled = false;\n",
              "\n",
              "  const outputElement = document.getElementById(outputId);\n",
              "  outputElement.innerHTML = '';\n",
              "\n",
              "  const pickedPromise = new Promise((resolve) => {\n",
              "    inputElement.addEventListener('change', (e) => {\n",
              "      resolve(e.target.files);\n",
              "    });\n",
              "  });\n",
              "\n",
              "  const cancel = document.createElement('button');\n",
              "  inputElement.parentElement.appendChild(cancel);\n",
              "  cancel.textContent = 'Cancel upload';\n",
              "  const cancelPromise = new Promise((resolve) => {\n",
              "    cancel.onclick = () => {\n",
              "      resolve(null);\n",
              "    };\n",
              "  });\n",
              "\n",
              "  // Wait for the user to pick the files.\n",
              "  const files = yield {\n",
              "    promise: Promise.race([pickedPromise, cancelPromise]),\n",
              "    response: {\n",
              "      action: 'starting',\n",
              "    }\n",
              "  };\n",
              "\n",
              "  cancel.remove();\n",
              "\n",
              "  // Disable the input element since further picks are not allowed.\n",
              "  inputElement.disabled = true;\n",
              "\n",
              "  if (!files) {\n",
              "    return {\n",
              "      response: {\n",
              "        action: 'complete',\n",
              "      }\n",
              "    };\n",
              "  }\n",
              "\n",
              "  for (const file of files) {\n",
              "    const li = document.createElement('li');\n",
              "    li.append(span(file.name, {fontWeight: 'bold'}));\n",
              "    li.append(span(\n",
              "        `(${file.type || 'n/a'}) - ${file.size} bytes, ` +\n",
              "        `last modified: ${\n",
              "            file.lastModifiedDate ? file.lastModifiedDate.toLocaleDateString() :\n",
              "                                    'n/a'} - `));\n",
              "    const percent = span('0% done');\n",
              "    li.appendChild(percent);\n",
              "\n",
              "    outputElement.appendChild(li);\n",
              "\n",
              "    const fileDataPromise = new Promise((resolve) => {\n",
              "      const reader = new FileReader();\n",
              "      reader.onload = (e) => {\n",
              "        resolve(e.target.result);\n",
              "      };\n",
              "      reader.readAsArrayBuffer(file);\n",
              "    });\n",
              "    // Wait for the data to be ready.\n",
              "    let fileData = yield {\n",
              "      promise: fileDataPromise,\n",
              "      response: {\n",
              "        action: 'continue',\n",
              "      }\n",
              "    };\n",
              "\n",
              "    // Use a chunked sending to avoid message size limits. See b/62115660.\n",
              "    let position = 0;\n",
              "    do {\n",
              "      const length = Math.min(fileData.byteLength - position, MAX_PAYLOAD_SIZE);\n",
              "      const chunk = new Uint8Array(fileData, position, length);\n",
              "      position += length;\n",
              "\n",
              "      const base64 = btoa(String.fromCharCode.apply(null, chunk));\n",
              "      yield {\n",
              "        response: {\n",
              "          action: 'append',\n",
              "          file: file.name,\n",
              "          data: base64,\n",
              "        },\n",
              "      };\n",
              "\n",
              "      let percentDone = fileData.byteLength === 0 ?\n",
              "          100 :\n",
              "          Math.round((position / fileData.byteLength) * 100);\n",
              "      percent.textContent = `${percentDone}% done`;\n",
              "\n",
              "    } while (position < fileData.byteLength);\n",
              "  }\n",
              "\n",
              "  // All done.\n",
              "  yield {\n",
              "    response: {\n",
              "      action: 'complete',\n",
              "    }\n",
              "  };\n",
              "}\n",
              "\n",
              "scope.google = scope.google || {};\n",
              "scope.google.colab = scope.google.colab || {};\n",
              "scope.google.colab._files = {\n",
              "  _uploadFiles,\n",
              "  _uploadFilesContinue,\n",
              "};\n",
              "})(self);\n",
              "</script> "
            ]
          },
          "metadata": {}
        },
        {
          "output_type": "stream",
          "name": "stdout",
          "text": [
            "Saving c88-2023_links_random - Sheet1.csv to c88-2023_links_random - Sheet1.csv\n"
          ]
        }
      ]
    },
    {
      "cell_type": "code",
      "source": [
        "acq_table= pd.read_csv(\"c88-2023_links_acquaintances - Sheet1.csv\")\n",
        "\n",
        "random_table=pd.read_csv(\"c88-2023_links_random - Sheet1.csv\")"
      ],
      "metadata": {
        "id": "71B4VYsgH0A1"
      },
      "execution_count": 3,
      "outputs": []
    },
    {
      "cell_type": "code",
      "source": [
        "acq_table\n",
        "random_table"
      ],
      "metadata": {
        "colab": {
          "base_uri": "https://localhost:8080/",
          "height": 424
        },
        "id": "rxOzpNd8IFdj",
        "outputId": "b8e2d29a-cb0c-4b02-e98f-73d0ccef5be4"
      },
      "execution_count": 36,
      "outputs": [
        {
          "output_type": "execute_result",
          "data": {
            "text/plain": [
              "     source  target\n",
              "0        19      23\n",
              "1        19      44\n",
              "2        19      34\n",
              "3        19      12\n",
              "4        13      27\n",
              "..      ...     ...\n",
              "171      14       3\n",
              "172      45      33\n",
              "173      45      41\n",
              "174      45       4\n",
              "175      45       9\n",
              "\n",
              "[176 rows x 2 columns]"
            ],
            "text/html": [
              "\n",
              "  <div id=\"df-11683224-008d-4966-a482-177fe69f5ecf\">\n",
              "    <div class=\"colab-df-container\">\n",
              "      <div>\n",
              "<style scoped>\n",
              "    .dataframe tbody tr th:only-of-type {\n",
              "        vertical-align: middle;\n",
              "    }\n",
              "\n",
              "    .dataframe tbody tr th {\n",
              "        vertical-align: top;\n",
              "    }\n",
              "\n",
              "    .dataframe thead th {\n",
              "        text-align: right;\n",
              "    }\n",
              "</style>\n",
              "<table border=\"1\" class=\"dataframe\">\n",
              "  <thead>\n",
              "    <tr style=\"text-align: right;\">\n",
              "      <th></th>\n",
              "      <th>source</th>\n",
              "      <th>target</th>\n",
              "    </tr>\n",
              "  </thead>\n",
              "  <tbody>\n",
              "    <tr>\n",
              "      <th>0</th>\n",
              "      <td>19</td>\n",
              "      <td>23</td>\n",
              "    </tr>\n",
              "    <tr>\n",
              "      <th>1</th>\n",
              "      <td>19</td>\n",
              "      <td>44</td>\n",
              "    </tr>\n",
              "    <tr>\n",
              "      <th>2</th>\n",
              "      <td>19</td>\n",
              "      <td>34</td>\n",
              "    </tr>\n",
              "    <tr>\n",
              "      <th>3</th>\n",
              "      <td>19</td>\n",
              "      <td>12</td>\n",
              "    </tr>\n",
              "    <tr>\n",
              "      <th>4</th>\n",
              "      <td>13</td>\n",
              "      <td>27</td>\n",
              "    </tr>\n",
              "    <tr>\n",
              "      <th>...</th>\n",
              "      <td>...</td>\n",
              "      <td>...</td>\n",
              "    </tr>\n",
              "    <tr>\n",
              "      <th>171</th>\n",
              "      <td>14</td>\n",
              "      <td>3</td>\n",
              "    </tr>\n",
              "    <tr>\n",
              "      <th>172</th>\n",
              "      <td>45</td>\n",
              "      <td>33</td>\n",
              "    </tr>\n",
              "    <tr>\n",
              "      <th>173</th>\n",
              "      <td>45</td>\n",
              "      <td>41</td>\n",
              "    </tr>\n",
              "    <tr>\n",
              "      <th>174</th>\n",
              "      <td>45</td>\n",
              "      <td>4</td>\n",
              "    </tr>\n",
              "    <tr>\n",
              "      <th>175</th>\n",
              "      <td>45</td>\n",
              "      <td>9</td>\n",
              "    </tr>\n",
              "  </tbody>\n",
              "</table>\n",
              "<p>176 rows × 2 columns</p>\n",
              "</div>\n",
              "      <button class=\"colab-df-convert\" onclick=\"convertToInteractive('df-11683224-008d-4966-a482-177fe69f5ecf')\"\n",
              "              title=\"Convert this dataframe to an interactive table.\"\n",
              "              style=\"display:none;\">\n",
              "        \n",
              "  <svg xmlns=\"http://www.w3.org/2000/svg\" height=\"24px\"viewBox=\"0 0 24 24\"\n",
              "       width=\"24px\">\n",
              "    <path d=\"M0 0h24v24H0V0z\" fill=\"none\"/>\n",
              "    <path d=\"M18.56 5.44l.94 2.06.94-2.06 2.06-.94-2.06-.94-.94-2.06-.94 2.06-2.06.94zm-11 1L8.5 8.5l.94-2.06 2.06-.94-2.06-.94L8.5 2.5l-.94 2.06-2.06.94zm10 10l.94 2.06.94-2.06 2.06-.94-2.06-.94-.94-2.06-.94 2.06-2.06.94z\"/><path d=\"M17.41 7.96l-1.37-1.37c-.4-.4-.92-.59-1.43-.59-.52 0-1.04.2-1.43.59L10.3 9.45l-7.72 7.72c-.78.78-.78 2.05 0 2.83L4 21.41c.39.39.9.59 1.41.59.51 0 1.02-.2 1.41-.59l7.78-7.78 2.81-2.81c.8-.78.8-2.07 0-2.86zM5.41 20L4 18.59l7.72-7.72 1.47 1.35L5.41 20z\"/>\n",
              "  </svg>\n",
              "      </button>\n",
              "      \n",
              "  <style>\n",
              "    .colab-df-container {\n",
              "      display:flex;\n",
              "      flex-wrap:wrap;\n",
              "      gap: 12px;\n",
              "    }\n",
              "\n",
              "    .colab-df-convert {\n",
              "      background-color: #E8F0FE;\n",
              "      border: none;\n",
              "      border-radius: 50%;\n",
              "      cursor: pointer;\n",
              "      display: none;\n",
              "      fill: #1967D2;\n",
              "      height: 32px;\n",
              "      padding: 0 0 0 0;\n",
              "      width: 32px;\n",
              "    }\n",
              "\n",
              "    .colab-df-convert:hover {\n",
              "      background-color: #E2EBFA;\n",
              "      box-shadow: 0px 1px 2px rgba(60, 64, 67, 0.3), 0px 1px 3px 1px rgba(60, 64, 67, 0.15);\n",
              "      fill: #174EA6;\n",
              "    }\n",
              "\n",
              "    [theme=dark] .colab-df-convert {\n",
              "      background-color: #3B4455;\n",
              "      fill: #D2E3FC;\n",
              "    }\n",
              "\n",
              "    [theme=dark] .colab-df-convert:hover {\n",
              "      background-color: #434B5C;\n",
              "      box-shadow: 0px 1px 3px 1px rgba(0, 0, 0, 0.15);\n",
              "      filter: drop-shadow(0px 1px 2px rgba(0, 0, 0, 0.3));\n",
              "      fill: #FFFFFF;\n",
              "    }\n",
              "  </style>\n",
              "\n",
              "      <script>\n",
              "        const buttonEl =\n",
              "          document.querySelector('#df-11683224-008d-4966-a482-177fe69f5ecf button.colab-df-convert');\n",
              "        buttonEl.style.display =\n",
              "          google.colab.kernel.accessAllowed ? 'block' : 'none';\n",
              "\n",
              "        async function convertToInteractive(key) {\n",
              "          const element = document.querySelector('#df-11683224-008d-4966-a482-177fe69f5ecf');\n",
              "          const dataTable =\n",
              "            await google.colab.kernel.invokeFunction('convertToInteractive',\n",
              "                                                     [key], {});\n",
              "          if (!dataTable) return;\n",
              "\n",
              "          const docLinkHtml = 'Like what you see? Visit the ' +\n",
              "            '<a target=\"_blank\" href=https://colab.research.google.com/notebooks/data_table.ipynb>data table notebook</a>'\n",
              "            + ' to learn more about interactive tables.';\n",
              "          element.innerHTML = '';\n",
              "          dataTable['output_type'] = 'display_data';\n",
              "          await google.colab.output.renderOutput(dataTable, element);\n",
              "          const docLink = document.createElement('div');\n",
              "          docLink.innerHTML = docLinkHtml;\n",
              "          element.appendChild(docLink);\n",
              "        }\n",
              "      </script>\n",
              "    </div>\n",
              "  </div>\n",
              "  "
            ]
          },
          "metadata": {},
          "execution_count": 36
        }
      ]
    },
    {
      "cell_type": "code",
      "source": [
        "acqgraph= nx.Graph()\n",
        "for x in range(len(acq_table)):\n",
        "  acqsource = acq_table[\"source\"]\n",
        "  acqtarget = acq_table[\"target\"]\n",
        "\n",
        "  acqgraph.add_edge(acqsource[x],acqtarget[x])\n",
        "\n",
        "\n",
        "                    \n",
        "\n",
        "\n",
        "\n",
        "\n"
      ],
      "metadata": {
        "id": "i3Ohfyn_IKhX"
      },
      "execution_count": 5,
      "outputs": []
    },
    {
      "cell_type": "code",
      "source": [
        "randomgraph= nx.Graph()\n",
        "for x in range(len(random_table)):\n",
        "  randomsource = random_table[\"source\"]\n",
        "  randomtarget = random_table[\"target\"]\n",
        "\n",
        "  randomgraph.add_edge(randomsource[x],randomtarget[x])\n"
      ],
      "metadata": {
        "id": "8D3qQ_3LOz9Q"
      },
      "execution_count": 6,
      "outputs": []
    },
    {
      "cell_type": "markdown",
      "source": [
        "##Basic Network Analysis 1"
      ],
      "metadata": {
        "id": "N3mkG334ky3A"
      }
    },
    {
      "cell_type": "code",
      "source": [
        "print(\"Number of Nodes in acquaintance class graph:\",acqgraph.number_of_nodes())"
      ],
      "metadata": {
        "colab": {
          "base_uri": "https://localhost:8080/"
        },
        "id": "1iPnV6ytQwYF",
        "outputId": "bbffda3b-831e-41f4-80cc-79e2d65e0d95"
      },
      "execution_count": 17,
      "outputs": [
        {
          "output_type": "stream",
          "name": "stdout",
          "text": [
            "Number of Nodes in acquaintance class graph: 43\n"
          ]
        }
      ]
    },
    {
      "cell_type": "code",
      "source": [
        "print(\"Number of Edges in acquaintance class graph:\",acqgraph.number_of_edges())"
      ],
      "metadata": {
        "colab": {
          "base_uri": "https://localhost:8080/"
        },
        "id": "RQoclU7OTqz0",
        "outputId": "f1872a68-a4f4-4a79-cde2-9945d257dac9"
      },
      "execution_count": 18,
      "outputs": [
        {
          "output_type": "stream",
          "name": "stdout",
          "text": [
            "Number of Edges in acquaintance class graph: 64\n"
          ]
        }
      ]
    },
    {
      "cell_type": "code",
      "source": [
        "\n",
        "print(\"Number of Nodes in random class graph:\",randomgraph.number_of_nodes())"
      ],
      "metadata": {
        "colab": {
          "base_uri": "https://localhost:8080/"
        },
        "id": "GBFyBX0mO8Gc",
        "outputId": "7bb07ed9-3c7e-488b-a9fb-f301eb195213"
      },
      "execution_count": 20,
      "outputs": [
        {
          "output_type": "stream",
          "name": "stdout",
          "text": [
            "Number of Nodes in random class graph: 60\n"
          ]
        }
      ]
    },
    {
      "cell_type": "code",
      "source": [
        "print(\"Number of Edges in random class graph:\",randomgraph.number_of_edges())"
      ],
      "metadata": {
        "colab": {
          "base_uri": "https://localhost:8080/"
        },
        "id": "Y3pNoJzDO7fc",
        "outputId": "2d4a00ff-33a8-4acc-9164-e3b0959e410f"
      },
      "execution_count": 19,
      "outputs": [
        {
          "output_type": "stream",
          "name": "stdout",
          "text": [
            "Number of Edges in random class graph: 174\n"
          ]
        }
      ]
    },
    {
      "cell_type": "markdown",
      "source": [
        "##Basic Network Analysis 2"
      ],
      "metadata": {
        "id": "BeO1jPI2k5Pl"
      }
    },
    {
      "cell_type": "code",
      "source": [
        "degrees_acq = dict(acqgraph.degree)\n",
        "print('the maximum degree in the acq graph is:', max(degrees_acq.values()), 'and it belongs to node:', degrees_acq.get(max(degrees_acq.values())))\n",
        "degrees_rand = dict(randomgraph.degree)\n",
        "print('the maximum degree in the acq graph is:', max(degrees_rand.values()), 'and it belongs to node:', degrees_rand.get(max(degrees_rand.values())))"
      ],
      "metadata": {
        "colab": {
          "base_uri": "https://localhost:8080/"
        },
        "id": "gP5xaqY_TvAx",
        "outputId": "e2a6565b-bc6f-4207-a050-e4d99b114810"
      },
      "execution_count": 27,
      "outputs": [
        {
          "output_type": "stream",
          "name": "stdout",
          "text": [
            "the maximum degree in the acq graph is: 10 and it belongs to node: 4\n",
            "the maximum degree in the acq graph is: 13 and it belongs to node: 7\n"
          ]
        }
      ]
    },
    {
      "cell_type": "code",
      "source": [
        "# for node in acqgraph.nodes():\n",
        "#   print(\"Degree of\", node, \"is : \",len(list(acqgraph.neighbors(node)) ),\"or\",acqgraph.degree(node))"
      ],
      "metadata": {
        "id": "qCUkd9veVY8c"
      },
      "execution_count": 26,
      "outputs": []
    },
    {
      "cell_type": "code",
      "source": [
        "# for node in randomgraph.nodes():\n",
        "#   print(\"Degree of\", node, \"is : \",len(list(randomgraph.neighbors(node)) ),\"or\",randomgraph.degree(node))"
      ],
      "metadata": {
        "id": "7ACHoGH6XYpa"
      },
      "execution_count": 28,
      "outputs": []
    },
    {
      "cell_type": "code",
      "source": [
        "Avg_D_acq=np.mean(list(dict(acqgraph.degree()).values()))\n",
        "Avg_D_acq"
      ],
      "metadata": {
        "id": "3gfYoUfzYNzF",
        "colab": {
          "base_uri": "https://localhost:8080/"
        },
        "outputId": "406fa5ae-826a-4d1b-fdeb-aae8b4a7e2d1"
      },
      "execution_count": 30,
      "outputs": [
        {
          "output_type": "execute_result",
          "data": {
            "text/plain": [
              "2.9767441860465116"
            ]
          },
          "metadata": {},
          "execution_count": 30
        }
      ]
    },
    {
      "cell_type": "code",
      "source": [
        "print(\"Average Degree for acqgraph is \", Avg_D_acq)"
      ],
      "metadata": {
        "colab": {
          "base_uri": "https://localhost:8080/"
        },
        "id": "vsnAfRt0bZgx",
        "outputId": "6d02c830-dc93-4839-bf9d-832b6bc5ad31"
      },
      "execution_count": 31,
      "outputs": [
        {
          "output_type": "stream",
          "name": "stdout",
          "text": [
            "Average Degree for acqgraph is  2.9767441860465116\n"
          ]
        }
      ]
    },
    {
      "cell_type": "code",
      "source": [
        "Avg_D_random=np.mean(list(dict(randomgraph.degree()).values()))"
      ],
      "metadata": {
        "id": "YbN_Idh7ZGrP"
      },
      "execution_count": 33,
      "outputs": []
    },
    {
      "cell_type": "code",
      "source": [
        "print(\"Average Degree for acqgraph is \", Avg_D_random)"
      ],
      "metadata": {
        "id": "pHsAL_IscGrb",
        "colab": {
          "base_uri": "https://localhost:8080/"
        },
        "outputId": "6d3b7f2b-f42b-47f9-bc93-ce8d35c5eec3"
      },
      "execution_count": 35,
      "outputs": [
        {
          "output_type": "stream",
          "name": "stdout",
          "text": [
            "Average Degree for acqgraph is  5.8\n"
          ]
        }
      ]
    },
    {
      "cell_type": "code",
      "source": [
        "print('average shortest path for acq graph then random graph(from class data):', nx.average_shortest_path_length(acqgraph.subgraph(sorted(nx.connected_components(acqgraph), key=len,reverse=True)[0])),'and', nx.average_shortest_path_length(randomgraph.subgraph(sorted(nx.connected_components(randomgraph), key=len,reverse=True)[0])))"
      ],
      "metadata": {
        "colab": {
          "base_uri": "https://localhost:8080/"
        },
        "id": "8f_FcWXblahJ",
        "outputId": "e64dad7a-8f08-4550-96f9-7ed0df04997b"
      },
      "execution_count": 44,
      "outputs": [
        {
          "output_type": "stream",
          "name": "stdout",
          "text": [
            "average shortest path for acq graph then random graph(from class data): 3.7585365853658534 and 2.5\n"
          ]
        }
      ]
    },
    {
      "cell_type": "code",
      "source": [
        "cp_acq = nx.average_clustering(acqgraph)\n",
        "cp_rand = nx.average_clustering(randomgraph)\n",
        "print('average clustering coeff for acq then random graph:', cp_acq,'and', cp_rand)"
      ],
      "metadata": {
        "colab": {
          "base_uri": "https://localhost:8080/"
        },
        "id": "UJ5mLwZklane",
        "outputId": "42d6d131-ff8b-4c1c-f629-2d26b9b111dd"
      },
      "execution_count": 57,
      "outputs": [
        {
          "output_type": "stream",
          "name": "stdout",
          "text": [
            "average clustering coeff for acq then random graph: 0.29368770764119595 and 0.1021218596218596\n"
          ]
        }
      ]
    },
    {
      "cell_type": "code",
      "source": [
        "rand_acq_model = nx.erdos_renyi_graph(43, .1)\n",
        "rand_rand_model = nx.erdos_renyi_graph(60, .1)\n",
        "print('the avg cc of rand_acq is:', nx.average_clustering(rand_acq_model))\n",
        "print('the avg cc of rand_rand is:', nx.average_clustering(rand_rand_model))\n",
        "print('the avg degree of rand_acq:', np.mean(list(dict(rand_acq_model.degree()).values())))\n",
        "print('the avg degree of rand_rand:', np.mean(list(dict(rand_rand_model.degree()).values())))\n",
        "print('the avg short path rand_acq is:', nx.average_shortest_path_length(rand_acq_model))\n",
        "print('the avg short path rand_rand is:', nx.average_shortest_path_length(rand_rand_model))\n",
        "print('the number of edges for rand_acq:', nx.number_of_edges(rand_acq_model))\n",
        "print('the number of edges for rand_rand:', nx.number_of_edges(rand_rand_model))"
      ],
      "metadata": {
        "colab": {
          "base_uri": "https://localhost:8080/"
        },
        "id": "5KK8xWe2rgIy",
        "outputId": "b5e626aa-d0cb-49b2-b3be-203774f9de5c"
      },
      "execution_count": 66,
      "outputs": [
        {
          "output_type": "stream",
          "name": "stdout",
          "text": [
            "the avg cc of rand_acq is: 0.07364341085271317\n",
            "the avg cc of rand_rand is: 0.13119241869241868\n",
            "the avg degree of rand_acq: 4.558139534883721\n",
            "the avg degree of rand_rand: 6.933333333333334\n",
            "the avg short path rand_acq is: 2.5991140642303434\n",
            "the avg short path rand_rand is: 2.3073446327683618\n",
            "the number of edges for rand_acq: 98\n",
            "the number of edges for rand_rand: 208\n"
          ]
        }
      ]
    },
    {
      "cell_type": "code",
      "source": [
        "#calculate p values for random models, first for acq then for random\n",
        "\n",
        "c0_acq = nx.average_clustering(nx.watts_strogatz_graph(43, 5, 0))\n",
        "c0_rand = nx.average_clustering(nx.watts_strogatz_graph(60, 4, 0))\n",
        "\n",
        "p_acq = 1-pow(cp_acq/c0_acq, 1/3)\n",
        "p_rand = 1-pow(cp_rand/c0_rand, 1/3)"
      ],
      "metadata": {
        "id": "WJ3HIoFmlawG"
      },
      "execution_count": 58,
      "outputs": []
    },
    {
      "cell_type": "code",
      "source": [
        "sw_acq_model = nx.watts_strogatz_graph(43,4,p_acq)\n",
        "sw_rand_model = nx.watts_strogatz_graph(60, 5, p_rand)"
      ],
      "metadata": {
        "id": "U1K_wb6Xla0U"
      },
      "execution_count": 81,
      "outputs": []
    },
    {
      "cell_type": "code",
      "source": [
        "print('the avg cc of sw_acq_model is:', nx.average_clustering(sw_acq_model))\n",
        "print('the avg cc of sw_rand_model is:', nx.average_clustering(sw_rand_model))\n",
        "print('the avg degree of sw_acq_model:', np.mean(list(dict(sw_acq_model.degree()).values())))\n",
        "print('the avg degree of sw_rand_model:', np.mean(list(dict(sw_rand_model.degree()).values())))\n",
        "print('the avg short path sw_acq_model is:', nx.average_shortest_path_length(sw_acq_model))\n",
        "print('the avg short path sw_rand_model is:', nx.average_shortest_path_length(sw_rand_model))\n",
        "print('the number of edges for sw_acq_model:', nx.number_of_edges(sw_acq_model))\n",
        "print('the number of edges for sw_rand_model:', nx.number_of_edges(sw_rand_model))"
      ],
      "metadata": {
        "id": "kjOtidGzhVlT",
        "colab": {
          "base_uri": "https://localhost:8080/"
        },
        "outputId": "1fd5e235-63f2-47d3-901a-8433d62170ee"
      },
      "execution_count": 82,
      "outputs": [
        {
          "output_type": "stream",
          "name": "stdout",
          "text": [
            "the avg cc of sw_acq_model is: 0.32403100775193794\n",
            "the avg cc of sw_rand_model is: 0.14126984126984127\n",
            "the avg degree of sw_acq_model: 4.0\n",
            "the avg degree of sw_rand_model: 4.0\n",
            "the avg short path sw_acq_model is: 3.2270210409745292\n",
            "the avg short path sw_rand_model is: 3.1745762711864405\n",
            "the number of edges for sw_acq_model: 86\n",
            "the number of edges for sw_rand_model: 120\n"
          ]
        }
      ]
    },
    {
      "cell_type": "code",
      "source": [
        "barb_model_rand = nx.barabasi_albert_graph(60, 4)"
      ],
      "metadata": {
        "id": "Npl1MRP3uJiA"
      },
      "execution_count": 85,
      "outputs": []
    },
    {
      "cell_type": "code",
      "source": [
        "barb_model_acq = nx.barabasi_albert_graph(43, 2)"
      ],
      "metadata": {
        "id": "thdbK3fevALN"
      },
      "execution_count": 89,
      "outputs": []
    },
    {
      "cell_type": "code",
      "source": [
        "print('the avg cc of barb_model_rand is:', nx.average_clustering(barb_model_rand))\n",
        "print('the avg cc of barb_model_acq is:', nx.average_clustering(barb_model_acq))\n",
        "print('the avg degree of barb_model_rand:', np.mean(list(dict(barb_model_rand.degree()).values())))\n",
        "print('the avg degree of barb_model_acq:', np.mean(list(dict(barb_model_acq.degree()).values())))\n",
        "print('the avg short path barb_model_rand is:', nx.average_shortest_path_length(barb_model_rand))\n",
        "print('the avg short path barb_model_acq is:', nx.average_shortest_path_length(barb_model_acq))\n",
        "print('the number of edges for barb_model_rand:', nx.number_of_edges(barb_model_rand))\n",
        "print('the number of edges for barb_model_acq:', nx.number_of_edges(barb_model_acq))"
      ],
      "metadata": {
        "colab": {
          "base_uri": "https://localhost:8080/"
        },
        "id": "6lf1m1nOuZOY",
        "outputId": "3f2ed447-ea92-43f6-cc87-98db63eaa50c"
      },
      "execution_count": 90,
      "outputs": [
        {
          "output_type": "stream",
          "name": "stdout",
          "text": [
            "the avg cc of barb_model_rand is: 0.20973522335364442\n",
            "the avg cc of barb_model_acq is: 0.10448866379098937\n",
            "the avg degree of barb_model_rand: 7.466666666666667\n",
            "the avg degree of barb_model_acq: 3.813953488372093\n",
            "the avg short path barb_model_rand is: 2.1875706214689266\n",
            "the avg short path barb_model_acq is: 2.62015503875969\n",
            "the number of edges for barb_model_rand: 224\n",
            "the number of edges for barb_model_acq: 82\n"
          ]
        }
      ]
    },
    {
      "cell_type": "markdown",
      "source": [
        "![image.png](data:image/png;base64,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)"
      ],
      "metadata": {
        "id": "1AHa_h9FlcmJ"
      }
    },
    {
      "cell_type": "markdown",
      "source": [
        "##Question 7"
      ],
      "metadata": {
        "id": "CwBFiHgavi5b"
      }
    },
    {
      "cell_type": "markdown",
      "source": [
        "based on the table, the small world model matches best with the "
      ],
      "metadata": {
        "id": "luhyDqUbvyOS"
      }
    }
  ]
}