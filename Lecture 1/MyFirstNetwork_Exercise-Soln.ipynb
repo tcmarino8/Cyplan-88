{
 "cells": [
  {
   "cell_type": "code",
   "execution_count": 6,
   "metadata": {},
   "outputs": [],
   "source": [
    "import networkx as nx\n",
    "import matplotlib.pyplot as plt\n",
    "import numpy as np\n",
    "#this will allow the plot to be inline in the browser\n",
    "%matplotlib inline"
   ]
  },
  {
   "cell_type": "code",
   "execution_count": 7,
   "metadata": {},
   "outputs": [
    {
     "name": "stdout",
     "output_type": "stream",
     "text": [
      "Python 3.7.6\r\n"
     ]
    }
   ],
   "source": [
    "!python -V"
   ]
  },
  {
   "cell_type": "code",
   "execution_count": 8,
   "metadata": {},
   "outputs": [
    {
     "name": "stdout",
     "output_type": "stream",
     "text": [
      "networkx 2.6.2\n"
     ]
    }
   ],
   "source": [
    "  print('networkx', nx.__version__)"
   ]
  },
  {
   "cell_type": "markdown",
   "metadata": {},
   "source": [
    "### Exercise: Create the 4 node network of Lecture 1 and respond the following questions (use networkx documentation or Google the questions)"
   ]
  },
  {
   "cell_type": "code",
   "execution_count": 9,
   "metadata": {},
   "outputs": [],
   "source": [
    "g = nx.Graph()  #Graph base class for undirected graphs. See also:DiGraph for directed graphs\n",
    "g.add_edge('1','2',weight=1.0) #Nodes can be arbitrary (hashable) Python objects with optional key/value attributes.\n",
    "g.add_edge('2','3',weight=1.0) #Edges are represented as links between nodes with optional key/value attributes.                                \n",
    "g.add_edge('2','4',weight=1.0) #We create a network by adding 11 edges to the graph (g) of 4 nodes. \n",
    "g.add_edge('4','3',weight=1.0)"
   ]
  },
  {
   "cell_type": "code",
   "execution_count": 10,
   "metadata": {},
   "outputs": [
    {
     "data": {
      "image/png": "[encoded data removed]",
      "text/plain": [
       "<Figure size 432x288 with 1 Axes>"
      ]
     },
     "metadata": {},
     "output_type": "display_data"
    }
   ],
   "source": [
    "nx.draw(g,\n",
    "        with_labels=True,\n",
    "        node_color='blue',\n",
    "        node_size=1600,\n",
    "        font_color='white',\n",
    "        font_size=16,\n",
    "        )"
   ]
  },
  {
   "cell_type": "code",
   "execution_count": 11,
   "metadata": {},
   "outputs": [],
   "source": [
    "## Separate in groups of 5 people see here: "
   ]
  },
  {
   "cell_type": "markdown",
   "metadata": {},
   "source": [
    "#### 1) Print Nodes"
   ]
  },
  {
   "cell_type": "code",
   "execution_count": 12,
   "metadata": {},
   "outputs": [
    {
     "name": "stdout",
     "output_type": "stream",
     "text": [
      "Nodes:  ['1', '2', '3', '4']\n"
     ]
    }
   ],
   "source": [
    "print(\"Nodes: \",list(g.nodes))"
   ]
  },
  {
   "cell_type": "markdown",
   "metadata": {},
   "source": [
    "#### 2) Print Edges"
   ]
  },
  {
   "cell_type": "code",
   "execution_count": 13,
   "metadata": {},
   "outputs": [
    {
     "name": "stdout",
     "output_type": "stream",
     "text": [
      "Nodes:  [('1', '2'), ('2', '3'), ('2', '4'), ('3', '4')]\n"
     ]
    }
   ],
   "source": [
    "print(\"Nodes: \",list(g.edges))"
   ]
  },
  {
   "cell_type": "markdown",
   "metadata": {},
   "source": [
    "#### 3) Print number of nodes"
   ]
  },
  {
   "cell_type": "code",
   "execution_count": 14,
   "metadata": {},
   "outputs": [
    {
     "name": "stdout",
     "output_type": "stream",
     "text": [
      "Number of Nodes:  4\n"
     ]
    }
   ],
   "source": [
    "print(\"Number of Nodes: \",g.number_of_nodes())"
   ]
  },
  {
   "cell_type": "markdown",
   "metadata": {},
   "source": [
    "#### 4) Print number of Edges"
   ]
  },
  {
   "cell_type": "code",
   "execution_count": 26,
   "metadata": {},
   "outputs": [
    {
     "name": "stdout",
     "output_type": "stream",
     "text": [
      "Number of Edges:  4\n"
     ]
    }
   ],
   "source": [
    "print(\"Number of Edges: \",g.number_of_edges())"
   ]
  },
  {
   "cell_type": "markdown",
   "metadata": {},
   "source": [
    "#### 5) Iterate through nodes and print neighbors"
   ]
  },
  {
   "cell_type": "code",
   "execution_count": 16,
   "metadata": {},
   "outputs": [
    {
     "name": "stdout",
     "output_type": "stream",
     "text": [
      "Neighbors of  1  are :  ['2']\n",
      "Neighbors of  2  are :  ['1', '3', '4']\n",
      "Neighbors of  3  are :  ['2', '4']\n",
      "Neighbors of  4  are :  ['2', '3']\n"
     ]
    }
   ],
   "source": [
    "for node in g.nodes():\n",
    "    print (\"Neighbors of \", node, \" are : \", list(g.neighbors(node)))"
   ]
  },
  {
   "cell_type": "markdown",
   "metadata": {},
   "source": [
    "#### 6) Iterate through nodes and print degree"
   ]
  },
  {
   "cell_type": "code",
   "execution_count": 17,
   "metadata": {
    "scrolled": true
   },
   "outputs": [
    {
     "name": "stdout",
     "output_type": "stream",
     "text": [
      "Degree of  1  are :  1\n",
      "Degree of  2  are :  3\n",
      "Degree of  3  are :  2\n",
      "Degree of  4  are :  2\n"
     ]
    }
   ],
   "source": [
    "for node in g.nodes():\n",
    "    print (\"Degree of \", node, \" are : \", g.degree(node))"
   ]
  },
  {
   "cell_type": "markdown",
   "metadata": {},
   "source": [
    "#### 7) Print weight of edges"
   ]
  },
  {
   "cell_type": "code",
   "execution_count": 18,
   "metadata": {},
   "outputs": [
    {
     "name": "stdout",
     "output_type": "stream",
     "text": [
      "Weight of edge [ 1 ][ 2 ] is  1.0\n",
      "Weight of edge [ 2 ][ 3 ] is  1.0\n",
      "Weight of edge [ 2 ][ 4 ] is  1.0\n",
      "Weight of edge [ 3 ][ 4 ] is  1.0\n"
     ]
    }
   ],
   "source": [
    "for u,v in g.edges():\n",
    "    print (\"Weight of edge [\", u, \"][\", v,\"] is \", g[u][v]['weight'])"
   ]
  },
  {
   "cell_type": "markdown",
   "metadata": {},
   "source": [
    "#### Repeat the exercise 1)-7) using DiGraph instead of Graph. \n",
    "#### Namely:  -Print Nodes, -Print Edges, -Number of Nodes, -Number of Edges, -Degree per node, -Neighbors of each Node, -Weight of edges"
   ]
  },
  {
   "cell_type": "code",
   "execution_count": 19,
   "metadata": {},
   "outputs": [],
   "source": [
    "gd = nx.DiGraph()  #Graph base class for undirected graphs. See also:DiGraph for directed graphs\n",
    "gd.add_edge('1','2',weight=1.0) #Nodes can be arbitrary (hashable) Python objects with optional key/value attributes.\n",
    "gd.add_edge('2','3',weight=2.0) #Edges are represented as links between nodes with optional key/value attributes.                                \n",
    "gd.add_edge('2','4',weight=3.0) #We create a network by adding 11 edges to the graph (g) of 4 nodes. \n",
    "gd.add_edge('4','3',weight=4.0)"
   ]
  },
  {
   "cell_type": "code",
   "execution_count": 20,
   "metadata": {},
   "outputs": [],
   "source": [
    "edgewidth=[]\n",
    "for u,v in gd.edges():\n",
    "    edgewidth.append(gd.get_edge_data(u,v)['weight'])"
   ]
  },
  {
   "cell_type": "code",
   "execution_count": 21,
   "metadata": {},
   "outputs": [
    {
     "data": {
      "text/plain": [
       "[1.0, 2.0, 3.0, 4.0]"
      ]
     },
     "execution_count": 21,
     "metadata": {},
     "output_type": "execute_result"
    }
   ],
   "source": [
    "edgewidth"
   ]
  },
  {
   "cell_type": "code",
   "execution_count": 22,
   "metadata": {},
   "outputs": [
    {
     "data": {
      "text/plain": [
       "OutEdgeView([('1', '2'), ('2', '3'), ('2', '4'), ('4', '3')])"
      ]
     },
     "execution_count": 22,
     "metadata": {},
     "output_type": "execute_result"
    }
   ],
   "source": [
    "gd.edges()"
   ]
  },
  {
   "cell_type": "code",
   "execution_count": 23,
   "metadata": {},
   "outputs": [
    {
     "data": {
      "image/png": "[encoded data removed]",
      "text/plain": [
       "<Figure size 432x288 with 1 Axes>"
      ]
     },
     "metadata": {},
     "output_type": "display_data"
    }
   ],
   "source": [
    "nx.draw(gd,\n",
    "        with_labels=True,\n",
    "        node_color='blue',\n",
    "        node_size=1600,\n",
    "        font_color='white',\n",
    "        font_size=16,\n",
    "        width = edgewidth\n",
    "        )"
   ]
  },
  {
   "cell_type": "markdown",
   "metadata": {},
   "source": [
    "#### Question 1, Print Nodes"
   ]
  },
  {
   "cell_type": "code",
   "execution_count": 24,
   "metadata": {},
   "outputs": [
    {
     "name": "stdout",
     "output_type": "stream",
     "text": [
      "Nodes:  ['1', '2', '3', '4']\n"
     ]
    }
   ],
   "source": [
    "print(\"Nodes: \",list(gd.nodes))"
   ]
  },
  {
   "cell_type": "markdown",
   "metadata": {},
   "source": [
    "#### Question 2, Print Edges"
   ]
  },
  {
   "cell_type": "code",
   "execution_count": 22,
   "metadata": {},
   "outputs": [
    {
     "name": "stdout",
     "output_type": "stream",
     "text": [
      "Edges:  [('1', '2'), ('2', '3'), ('2', '4'), ('4', '3')]\n"
     ]
    }
   ],
   "source": [
    "print(\"Edges: \",list(gd.edges))"
   ]
  },
  {
   "cell_type": "markdown",
   "metadata": {},
   "source": [
    "#### Question 3, Number of Nodes"
   ]
  },
  {
   "cell_type": "code",
   "execution_count": 25,
   "metadata": {},
   "outputs": [
    {
     "name": "stdout",
     "output_type": "stream",
     "text": [
      "Number of Nodes:  4\n"
     ]
    }
   ],
   "source": [
    "print(\"Number of Nodes: \",gd.number_of_nodes())"
   ]
  },
  {
   "cell_type": "markdown",
   "metadata": {},
   "source": [
    "#### Question 4, Number of Edges"
   ]
  },
  {
   "cell_type": "code",
   "execution_count": 27,
   "metadata": {},
   "outputs": [
    {
     "name": "stdout",
     "output_type": "stream",
     "text": [
      "Number of Edges:  4\n"
     ]
    }
   ],
   "source": [
    "print(\"Number of Edges: \",gd.number_of_edges())"
   ]
  },
  {
   "cell_type": "markdown",
   "metadata": {},
   "source": [
    "#### Question 5, Neighbors of each Node"
   ]
  },
  {
   "cell_type": "code",
   "execution_count": 28,
   "metadata": {},
   "outputs": [
    {
     "name": "stdout",
     "output_type": "stream",
     "text": [
      "Neighbors of  1  are :  ['2']\n",
      "Neighbors of  2  are :  ['1', '3', '4']\n",
      "Neighbors of  3  are :  ['2', '4']\n",
      "Neighbors of  4  are :  ['2', '3']\n"
     ]
    }
   ],
   "source": [
    "for node in g.nodes():\n",
    "    print (\"Neighbors of \", node, \" are : \", list(g.neighbors(node)))"
   ]
  },
  {
   "cell_type": "code",
   "execution_count": 32,
   "metadata": {},
   "outputs": [
    {
     "name": "stdout",
     "output_type": "stream",
     "text": [
      "Predecessors of  1  are :  []\n",
      "Predecessors of  2  are :  ['1']\n",
      "Predecessors of  3  are :  ['2', '4']\n",
      "Predecessors of  4  are :  ['2']\n"
     ]
    }
   ],
   "source": [
    "for node in g.nodes():\n",
    "    print (\"Predecessors of \", node, \" are : \", list(gd.predecessors(node)))"
   ]
  },
  {
   "cell_type": "markdown",
   "metadata": {},
   "source": [
    "#### Question 6, Out Degree per node"
   ]
  },
  {
   "cell_type": "code",
   "execution_count": 35,
   "metadata": {},
   "outputs": [
    {
     "name": "stdout",
     "output_type": "stream",
     "text": [
      "Sucessors of  1  are :  ['2']\n",
      "Sucessors of  2  are :  ['3', '4']\n",
      "Sucessors of  3  are :  []\n",
      "Sucessors of  4  are :  ['3']\n"
     ]
    }
   ],
   "source": [
    "for node in g.nodes():\n",
    "    print (\"Sucessors of \", node, \" are : \", list(gd.successors(node)))"
   ]
  },
  {
   "cell_type": "markdown",
   "metadata": {},
   "source": [
    "#### Question 7, Print weigth of edges"
   ]
  },
  {
   "cell_type": "code",
   "execution_count": 38,
   "metadata": {},
   "outputs": [
    {
     "name": "stdout",
     "output_type": "stream",
     "text": [
      "Weight of edge [ 1 ][ 2 ] is  1.0\n",
      "Weight of edge [ 2 ][ 3 ] is  2.0\n",
      "Weight of edge [ 2 ][ 4 ] is  3.0\n",
      "Weight of edge [ 4 ][ 3 ] is  4.0\n"
     ]
    }
   ],
   "source": [
    "for u,v in gd.edges():\n",
    "    print (\"Weight of edge [\", u, \"][\", v,\"] is \", gd[u][v]['weight'])"
   ]
  },
  {
   "cell_type": "markdown",
   "metadata": {},
   "source": [
    "#### Average Degree"
   ]
  },
  {
   "cell_type": "code",
   "execution_count": 18,
   "metadata": {},
   "outputs": [
    {
     "name": "stdout",
     "output_type": "stream",
     "text": [
      "Average out-degree of  directed graph =  1.0 , or:  1.0\n"
     ]
    }
   ],
   "source": [
    "print (\"Average out-degree of  directed graph = \",np.mean(list(dict(gd.out_degree()).values())),\", or: \",gd.number_of_edges()/gd.number_of_nodes())"
   ]
  },
  {
   "cell_type": "code",
   "execution_count": 19,
   "metadata": {},
   "outputs": [
    {
     "name": "stdout",
     "output_type": "stream",
     "text": [
      "Average in-degree of  directed graph =  1.0 , or:  1.0\n"
     ]
    }
   ],
   "source": [
    "print (\"Average in-degree of  directed graph = \",np.mean(list(dict(gd.in_degree()).values())),\", or: \",gd.number_of_edges()/gd.number_of_nodes())"
   ]
  },
  {
   "cell_type": "code",
   "execution_count": 20,
   "metadata": {},
   "outputs": [
    {
     "name": "stdout",
     "output_type": "stream",
     "text": [
      "Average degree of  directed graph =  2.0 , or:  2.0\n"
     ]
    }
   ],
   "source": [
    "print (\"Average degree of  directed graph = \",np.mean(list(dict(gd.degree()).values())),\", or: \",np.mean(list(dict(gd.in_degree()).values()))+np.mean(list(dict(gd.out_degree()).values())))"
   ]
  },
  {
   "cell_type": "markdown",
   "metadata": {},
   "source": [
    "### Note that degree = in_degree + out_degree"
   ]
  },
  {
   "cell_type": "code",
   "execution_count": 21,
   "metadata": {},
   "outputs": [
    {
     "data": {
      "text/plain": [
       "2.0"
      ]
     },
     "execution_count": 21,
     "metadata": {},
     "output_type": "execute_result"
    }
   ],
   "source": [
    "np.mean(list(dict(gd.in_degree()).values()))+np.mean(list(dict(gd.out_degree()).values()))"
   ]
  },
  {
   "cell_type": "markdown",
   "metadata": {},
   "source": [
    "#### Example extracting the degree of node 3 in Graph g"
   ]
  },
  {
   "cell_type": "code",
   "execution_count": 22,
   "metadata": {},
   "outputs": [
    {
     "data": {
      "text/plain": [
       "2"
      ]
     },
     "execution_count": 22,
     "metadata": {},
     "output_type": "execute_result"
    }
   ],
   "source": [
    "g.degree('3')"
   ]
  },
  {
   "cell_type": "markdown",
   "metadata": {},
   "source": [
    "#### Question 8: extract the in-degree, out-degree and degree of node 4 in Graph dg"
   ]
  },
  {
   "cell_type": "markdown",
   "metadata": {},
   "source": [
    "Hint:Check this link for in-degree and out-degree of a directed graph\n",
    "\n",
    "https://networkx.github.io/documentation/networkx-1.10/reference/classes.digraph.html"
   ]
  },
  {
   "cell_type": "code",
   "execution_count": 39,
   "metadata": {},
   "outputs": [
    {
     "data": {
      "text/plain": [
       "2"
      ]
     },
     "execution_count": 39,
     "metadata": {},
     "output_type": "execute_result"
    }
   ],
   "source": [
    "g.degree('4')"
   ]
  },
  {
   "cell_type": "code",
   "execution_count": 41,
   "metadata": {},
   "outputs": [
    {
     "data": {
      "text/plain": [
       "1"
      ]
     },
     "execution_count": 41,
     "metadata": {},
     "output_type": "execute_result"
    }
   ],
   "source": [
    "gd.in_degree('4')"
   ]
  },
  {
   "cell_type": "code",
   "execution_count": 42,
   "metadata": {},
   "outputs": [
    {
     "data": {
      "text/plain": [
       "1"
      ]
     },
     "execution_count": 42,
     "metadata": {},
     "output_type": "execute_result"
    }
   ],
   "source": [
    "gd.out_degree('4')"
   ]
  },
  {
   "cell_type": "markdown",
   "metadata": {},
   "source": [
    "### Successors, Predecessors and Neighbors in Directed Graphs\n",
    "\n",
    "Nodes in directed graphs have predecessors (\"in-neighbors\") and successors (\"out-neighbors\"):\n",
    "\n",
    "Since NetworkX 2, the .degree() method on a directed graph gives the total degree: in-degree plus out-degree. However, in a bit of confusing nomenclature, the neighbors method is a synonym for successors, giving only the edges originating from the given node. This makes sense if you consider neighbors to be all the nodes reachable from the given node by following links, but it's easy to make the mistake of writing .neighbors() in your code when you really want both predecessors and successors."
   ]
  },
  {
   "cell_type": "markdown",
   "metadata": {},
   "source": [
    "#### Question 8: Write the neighbors, predecessors and successors of node 2 of dg"
   ]
  },
  {
   "cell_type": "markdown",
   "metadata": {},
   "source": [
    "#### Let's Create the plot of the degree histogram of both graphs"
   ]
  },
  {
   "cell_type": "markdown",
   "metadata": {},
   "source": [
    "Use the code of this example https://networkx.github.io/documentation/stable/auto_examples/drawing/plot_degree_histogram.html\n",
    "Note that you do not need to use their G = nx.gnp_random_graph(100, 0.02), but the g and dg defined above"
   ]
  },
  {
   "cell_type": "code",
   "execution_count": 44,
   "metadata": {},
   "outputs": [],
   "source": [
    "degree_list=list(dict(g.degree()).values())"
   ]
  },
  {
   "cell_type": "code",
   "execution_count": 45,
   "metadata": {},
   "outputs": [
    {
     "data": {
      "text/plain": [
       "[1, 3, 2, 2]"
      ]
     },
     "execution_count": 45,
     "metadata": {},
     "output_type": "execute_result"
    }
   ],
   "source": [
    "degree_list"
   ]
  },
  {
   "cell_type": "code",
   "execution_count": 46,
   "metadata": {},
   "outputs": [],
   "source": [
    "Bins = range(1,max(degree_list)+2)"
   ]
  },
  {
   "cell_type": "code",
   "execution_count": 47,
   "metadata": {},
   "outputs": [
    {
     "name": "stdout",
     "output_type": "stream",
     "text": [
      "1\n",
      "2\n",
      "3\n",
      "4\n"
     ]
    }
   ],
   "source": [
    "for n in Bins:\n",
    "    print(n)"
   ]
  },
  {
   "cell_type": "code",
   "execution_count": 64,
   "metadata": {},
   "outputs": [],
   "source": [
    "import collections\n",
    "degree_sequence = sorted([d for n, d in g.degree()], reverse=True)\n",
    "degreeCount = collections.Counter(degree_sequence)\n",
    "deg, cnt = zip(*degreeCount.items())"
   ]
  },
  {
   "cell_type": "raw",
   "metadata": {},
   "source": [
    "ds=list(degree_sequence)"
   ]
  },
  {
   "cell_type": "code",
   "execution_count": 67,
   "metadata": {},
   "outputs": [
    {
     "data": {
      "text/plain": [
       "[3, 2, 2, 1]"
      ]
     },
     "execution_count": 67,
     "metadata": {},
     "output_type": "execute_result"
    }
   ],
   "source": [
    "degree_sequence "
   ]
  },
  {
   "cell_type": "code",
   "execution_count": 48,
   "metadata": {},
   "outputs": [],
   "source": [
    "counts,k = np.histogram(degree_list, bins=Bins)"
   ]
  },
  {
   "cell_type": "code",
   "execution_count": 49,
   "metadata": {},
   "outputs": [
    {
     "data": {
      "text/plain": [
       "array([1, 2, 1])"
      ]
     },
     "execution_count": 49,
     "metadata": {},
     "output_type": "execute_result"
    }
   ],
   "source": [
    "counts  #counts the occurrence of degree_list in Bins"
   ]
  },
  {
   "cell_type": "code",
   "execution_count": 50,
   "metadata": {},
   "outputs": [
    {
     "data": {
      "text/plain": [
       "array([1, 2, 3])"
      ]
     },
     "execution_count": 50,
     "metadata": {},
     "output_type": "execute_result"
    }
   ],
   "source": [
    "k[:-1]"
   ]
  },
  {
   "cell_type": "code",
   "execution_count": 57,
   "metadata": {},
   "outputs": [
    {
     "data": {
      "text/plain": [
       "[Text(1, 0, '1'), Text(2, 0, '2'), Text(3, 0, '3')]"
      ]
     },
     "execution_count": 57,
     "metadata": {},
     "output_type": "execute_result"
    },
    {
     "data": {
      "image/png": "[encoded data removed]",
      "text/plain": [
       "<Figure size 432x288 with 1 Axes>"
      ]
     },
     "metadata": {
      "needs_background": "light"
     },
     "output_type": "display_data"
    }
   ],
   "source": [
    "fig, ax = plt.subplots()\n",
    "plt.bar(k[:-1],counts,width=0.80, color='b')\n",
    "plt.title(\"Degree Histogram of Directed Graph\")\n",
    "plt.ylabel(\"Count\")\n",
    "plt.xlabel(\"Degree\")\n",
    "ax.set_xticks([d for d in k[:-1]])\n",
    "ax.set_xticklabels(k[:-1])"
   ]
  },
  {
   "cell_type": "code",
   "execution_count": 69,
   "metadata": {},
   "outputs": [
    {
     "data": {
      "text/plain": [
       "{'1': 0, '2': 0.16666666666666666, '3': 0.5, '4': 0.5}"
      ]
     },
     "execution_count": 69,
     "metadata": {},
     "output_type": "execute_result"
    }
   ],
   "source": [
    "nx.clustering(gd)"
   ]
  },
  {
   "cell_type": "code",
   "execution_count": null,
   "metadata": {},
   "outputs": [],
   "source": []
  }
 ],
 "metadata": {
  "anaconda-cloud": {},
  "kernelspec": {
   "display_name": "Python 3 (ipykernel)",
   "language": "python",
   "name": "python3"
  },
  "language_info": {
   "codemirror_mode": {
    "name": "ipython",
    "version": 3
   },
   "file_extension": ".py",
   "mimetype": "text/x-python",
   "name": "python",
   "nbconvert_exporter": "python",
   "pygments_lexer": "ipython3",
   "version": "3.9.12"
  },
  "varInspector": {
   "cols": {
    "lenName": 16,
    "lenType": 16,
    "lenVar": 40
   },
   "kernels_config": {
    "python": {
     "delete_cmd_postfix": "",
     "delete_cmd_prefix": "del ",
     "library": "var_list.py",
     "varRefreshCmd": "print(var_dic_list())"
    },
    "r": {
     "delete_cmd_postfix": ") ",
     "delete_cmd_prefix": "rm(",
     "library": "var_list.r",
     "varRefreshCmd": "cat(var_dic_list()) "
    }
   },
   "types_to_exclude": [
    "module",
    "function",
    "builtin_function_or_method",
    "instance",
    "_Feature"
   ],
   "window_display": false
  }
 },
 "nbformat": 4,
 "nbformat_minor": 1
}
